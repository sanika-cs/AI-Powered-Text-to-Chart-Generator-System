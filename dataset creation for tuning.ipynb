{
 "cells": [
  {
   "cell_type": "code",
   "execution_count": null,
   "id": "98a4162f-700c-4077-8ffb-5c4c54bc5406",
   "metadata": {},
   "outputs": [],
   "source": []
  },
  {
   "cell_type": "markdown",
   "id": "a5106544-a1c2-4f84-9608-ecd40f2b31b6",
   "metadata": {},
   "source": [
    "### **Creating Dataset For T5 fine tuning**"
   ]
  },
  {
   "cell_type": "markdown",
   "id": "9b791f12-272b-4465-8fb2-291127199d93",
   "metadata": {},
   "source": []
  },
  {
   "cell_type": "code",
   "execution_count": 99,
   "id": "a9194f93-af72-415f-b632-7610366ca4f1",
   "metadata": {},
   "outputs": [],
   "source": [
    "import pandas as pd\n",
    "import random"
   ]
  },
  {
   "cell_type": "markdown",
   "id": "2f47215c-c47c-4500-afdc-7a1d859b3081",
   "metadata": {},
   "source": [
    "Charts\n",
    "🔹 1. Bar & Categorical Charts\n",
    "\n",
    "Bar Chart\n",
    "\n",
    "Grouped Bar Chart\n",
    "\n",
    "Stacked Bar Chart\n",
    "\n",
    "Horizontal Bar Chart\n",
    "\n",
    "🔹 2. Line & Area Charts\n",
    "\n",
    "Line Chart\n",
    "\n",
    "Multi-Line Chart\n",
    "\n",
    "Step Line Chart\n",
    "\n",
    "Area Chart\n",
    "\n",
    "Stacked Area Chart\n",
    "\n",
    "🔹 3. Distribution & Summary Charts\n",
    "\n",
    "Histogram\n",
    "\n",
    "Box Plot\n",
    "\n",
    "Violin Plot\n",
    "\n",
    "Pie Chart\n",
    "\n",
    "Donut Chart\n",
    "\n",
    "🔹 4. Business & KPI Charts\n",
    "\n",
    "Treemap\n",
    "\n",
    "Waterfall Chart\n",
    "\n",
    "Funnel Chart\n",
    "\n",
    "Gauge Chart\n",
    "\n",
    "KPI Card / Metric\n",
    "\n",
    "Combo Chart (Bar + Line on Dual Axis)\n",
    "\n",
    "🔹 5. Correlation & Relationships\n",
    "\n",
    "Scatter Plot\n",
    "\n",
    "Bubble Chart\n",
    "\n",
    "Correlation Heatmap\n",
    "\n",
    "🔹 6. Geographic & Map Visuals\n",
    "\n",
    "Geo Scatter Map\n",
    "\n",
    "Choropleth Map"
   ]
  },
  {
   "cell_type": "markdown",
   "id": "f314da06-25f6-4f9b-995f-1b04fff1703b",
   "metadata": {},
   "source": [
    "## Chart Text"
   ]
  },
  {
   "cell_type": "markdown",
   "id": "561715b1-6597-4b2f-98da-7d767ea458d0",
   "metadata": {},
   "source": [
    "### 1. Bar & Categorical Charts"
   ]
  },
  {
   "cell_type": "code",
   "execution_count": 100,
   "id": "51d636b3-92aa-4b8a-84e1-d114be793a0c",
   "metadata": {},
   "outputs": [],
   "source": [
    "\n",
    "# === X and Y options ===\n",
    "x_options = [\n",
    "    \"product\", \"region\", \"month\", \"category\", \"department\", \"city\", \"country\",\n",
    "    \"mission\", \"mission_type\", \"mission type\", \"program\", \"area\", \"zone\", \"district\",\n",
    "    \"subject\", \"class\", \"course\", \"project\", \"team\", \"gender\", \"age group\",\n",
    "    \"income group\", \"education level\", \"state\", \"continent\", \"year\", \"quarter\",\n",
    "    \"platform\", \"source\", \"campaign\", \"device\", \"customer type\", \"service\",\n",
    "    \"incident type\", \"alert type\", \"status\", \"type\", \"location\", \"sector\",\n",
    "    \"industry\", \"browser\", \"os\", \"brand\", \"store\", \"channel\", \"model\", \"variant\",\n",
    "    \"mode\", \"segment\", \"specialization\",\"year\"\n",
    "]\n",
    "\n",
    "y_options = [\n",
    "    \"sales\", \"revenue\", \"profit\", \"amount\", \"budget\", \"expenses\", \"score\", \"rating\",\n",
    "    \"duration\", \"time\", \"cost\", \"income\", \"turnover\", \"performance\", \"success_rate\",\n",
    "    \"failure rate\", \"completion rate\", \"accuracy\", \"efficiency\", \"satisfaction\",\n",
    "    \"response time\", \"clicks\", \"views\", \"impressions\", \"downloads\", \"votes\",\n",
    "    \"likes\", \"dislikes\", \"usage\", \"frequency\", \"count\", \"population\", \"cases\",\n",
    "    \"alerts\", \"errors\", \"issues\", \"incidents\", \"losses\", \"assets\", \"balance\",\n",
    "    \"temperature\", \"humidity\", \"rainfall\", \"pollution\", \"concentration\",\n",
    "    \"speed\", \"delay\", \"growth\", \"decline\", \"reach\"\n",
    "]\n",
    "\n",
    "# === Filters ===\n",
    "filter_phrases = [\n",
    "    \"in 2023\", \"in the year 2022\", \"after 2021\", \"before 2020\", \">= 2022\",\n",
    "    \"<= 2021\", \"equal to 2023\", \"not equal to 2020\", \"where region is Asia\",\n",
    "    \"where region = Asia\", \"only for India\", \"if year is 2023\", \"mission type is Mars\",\n",
    "    \"when gender is Female\", \"for category A\", \"where program = Apollo\", \"sales > 500\",\n",
    "    \"sales less than 1000\", \"amount >= 100\", \"amount < 300\", \"for first quarter\",\n",
    "    \"if month is June\", \"campaign equals BlackFriday\", \"source is YouTube\",\n",
    "    \"platform = Android\", \"for the department Finance\", \"device is Mobile\",\n",
    "    \"continent = Europe\", \"status is Active\", \"budget greater than 1000\",\"where age group = 30–40\"\n",
    "]\n",
    "\n",
    "# === Bar chart templates ===\n",
    "bar_templates = [\n",
    "    \"Show bar chart for {y} by {x}\",\n",
    "    \"Plot {y} grouped by {x}\",\n",
    "    \"Draw bar chart of {x} vs {y}\",\n",
    "    \"Visualize {y} for each {x}\",\n",
    "    \"Give bar chart showing {x} and their {y}\",\n",
    "    \"Create a bar graph for {y} across {x}\",\n",
    "    \"Bar chart of total {y} per {x}\",\n",
    "    \"How does {y} vary by {x}?\",\n",
    "    \"Give a graph of {y} against {x}\",\n",
    "    \"Display bar graph of {x} by {y}\",\n",
    "    \"Bar chart for {x} and {y}\",\n",
    "    \"I want bar chart of {y} by {x}\",\n",
    "    \"Graph showing {x} vs {y}\",\n",
    "    \"Chart: {y} grouped by {x}\",\n",
    "    \"Can you make a bar chart using {x} and {y}?\",\n",
    "    \"bar of {x} and {y}\",\n",
    "    \"bar chart for each {x} with value of {y}\",\n",
    "    \"Draw a bar chart: {x}, {y}\",\n",
    "    \"Make chart showing {x} with {y}\",\n",
    "    \"Compare {y} by {x} in bar\",\n",
    "    \"Show me bar chart of {x} by {y}\",\n",
    "    \"Chart {y} against {x} using bars\",\n",
    "    \"Visual of {x} and {y} in bars\",\n",
    "    \"Bar representation of {y} across {x}\",\n",
    "    \"bargraph: {x} vs {y}\",\n",
    "    \"display {y} by different {x} values\",\n",
    "    \"total {y} grouped over {x} in bar\",\n",
    "    \"x wise bar chart for {y}\",\n",
    "    \"Bar plot showing {x} with {y}\",\n",
    "    \"Graph {x} against {y} (bar)\"\n",
    "]\n",
    "\n",
    "# === Noise function ===\n",
    "def introduce_noise(text):\n",
    "    noise_type = random.choice([\"spelling\", \"case\", \"grammar\"])\n",
    "    if noise_type == \"spelling\" and len(text) > 5:\n",
    "        i = random.randint(0, len(text) - 2)\n",
    "        return text[:i] + text[i+1] + text[i] + text[i+2:]\n",
    "    elif noise_type == \"case\":\n",
    "        return text.lower() if random.random() < 0.5 else text.upper()\n",
    "    elif noise_type == \"grammar\":\n",
    "        words = text.split()\n",
    "        if len(words) > 4:\n",
    "            words.pop(random.randint(1, len(words) - 2))\n",
    "        return \" \".join(words)\n",
    "    return text\n",
    "\n",
    "# === Generate samples ===\n",
    "samples = []\n",
    "samples_per_template = 100\n",
    "filter_probability = 0.4  # 40% filtered\n",
    "noise_probability = 0.15  # 15% noisy\n",
    "\n",
    "for template in bar_templates:\n",
    "    for _ in range(samples_per_template):\n",
    "        x = random.choice(x_options)\n",
    "        y = random.choice(y_options)\n",
    "        input_text = template.format(x=x, y=y)\n",
    "\n",
    "        if random.random() < filter_probability:\n",
    "            filter_text = random.choice(filter_phrases)\n",
    "            input_text += f\" {filter_text}\"\n",
    "            target_text = f\"chart: bar, x: {x}, y: {y}, filter: {filter_text}\"\n",
    "        else:\n",
    "            target_text = f\"chart: bar, x: {x}, y: {y}\"\n",
    "\n",
    "        # Add noise\n",
    "        if random.random() < noise_probability:\n",
    "            input_text = introduce_noise(input_text)\n",
    "\n",
    "        samples.append({\"input\": input_text, \"target\": target_text})\n",
    "\n",
    "# === Save to CSV ===\n",
    "df = pd.DataFrame(samples)\n"
   ]
  },
  {
   "cell_type": "code",
   "execution_count": 101,
   "id": "c38bd3ac-b7b7-42d6-ab0c-46c620474590",
   "metadata": {},
   "outputs": [
    {
     "data": {
      "text/plain": [
       "(3000, 2)"
      ]
     },
     "execution_count": 101,
     "metadata": {},
     "output_type": "execute_result"
    }
   ],
   "source": [
    "df.shape"
   ]
  },
  {
   "cell_type": "markdown",
   "id": "68297395-1f1b-4828-9176-497950738ef2",
   "metadata": {},
   "source": [
    "### 2. grouped bar chart"
   ]
  },
  {
   "cell_type": "code",
   "execution_count": 102,
   "id": "a5b5172f-53bd-4575-9b14-d64aeb24984e",
   "metadata": {},
   "outputs": [
    {
     "name": "stdout",
     "output_type": "stream",
     "text": [
      " Saved 3000 grouped bar chart samples.\n"
     ]
    }
   ],
   "source": [
    "group_options = [\n",
    "    \"region\", \"gender\", \"category\", \"department\", \"age group\", \"year\",\n",
    "    \"quarter\", \"month\", \"city\", \"country\", \"state\", \"zone\", \"district\",\n",
    "    \"team\", \"campaign\", \"platform\", \"source\", \"program\", \"project type\",\n",
    "    \"device\", \"browser\", \"status\", \"education level\", \"income_group\",\n",
    "    \"continent\", \"mission type\", \"alert type\", \"customer type\",\n",
    "    \"type\", \"store\"\n",
    "]\n",
    "\n",
    "grouped_templates = [\n",
    "    \"Show grouped bar chart of {y} by {x} and {group}\",\n",
    "    \"Grouped bars for {y} by {x} and {group}\",\n",
    "    \"Compare {y} across {x} grouped by {group}\",\n",
    "    \"Grouped chart for {y} by {x} with groups {group}\",\n",
    "    \"Bar chart for {x} vs {y} grouped on {group}\",\n",
    "    \"Chart {y} by {x} and group with {group}\",\n",
    "    \"I want grouped bar of {y} using {x} grouped by {group}\",\n",
    "    \"Grouped bar: {x}, {y}, {group}\",\n",
    "    \"Visualize {y} for each {x} with grouping by {group}\",\n",
    "    \"Grouped bars showing {x} and {group} for {y}\",\n",
    "    \"Plot {y} grouped by {x} and then {group}\",\n",
    "    \"Make grouped bar comparing {x} by {group} with {y}\",\n",
    "    \"Give a grouped bar chart of {x} and {group} using {y}\",\n",
    "    \"Bar chart with grouping on {group} showing {y} by {x}\",\n",
    "    \"Can you display grouped bar: {y}, {x}, {group}?\",\n",
    "    \"Grouped chart: show {y} for {x} grouped by {group}\",\n",
    "    \"Graph of {y} across {x}, split by {group}\",\n",
    "    \"Create grouped bar showing {x}, {group}, and values of {y}\",\n",
    "    \"I want bar chart with {x} on x-axis, {y} as value, grouped by {group}\",\n",
    "    \"Grouped visualization for {y} by {x} & {group}\",\n",
    "    \"Chart of {y} over {x} separated by {group}\",\n",
    "    \"How does {y} differ for {x} with groups from {group}?\",\n",
    "    \"Use grouped bars to compare {y} by {x} split by {group}\",\n",
    "    \"Bar comparison of {x} with {group} for {y}\",\n",
    "    \"Render grouped bar of {x}, {group}, and their {y}\",\n",
    "    \"Make a bar graph comparing {y} across {x}, grouped by {group}\",\n",
    "    \"Bar analysis of {y} over {x} per {group}\",\n",
    "    \"Breakdown of {y} by {x} grouped by {group}\",\n",
    "    \"Draw grouped bar of {x} with {y} and split by {group}\",\n",
    "    \"Grouped bar graph: {x}, {group}, value = {y}\"\n",
    "]\n",
    "\n",
    "\n",
    "# 🔹 Settings\n",
    "filter_probability = 0.4\n",
    "samples = []\n",
    "\n",
    "# 🔹 Generate Data\n",
    "for template in grouped_templates:\n",
    "    for _ in range(100):\n",
    "        x = random.choice(x_options)\n",
    "        y = random.choice(y_options)\n",
    "        group = random.choice(group_options)\n",
    "\n",
    "        input_text = template.format(x=x, y=y, group=group)\n",
    "\n",
    "        if random.random() < filter_probability:\n",
    "            filter_text = random.choice(filter_phrases)\n",
    "            input_text += f\" {filter_text}\"\n",
    "            target = f\"chart: grouped_bar, x: {x}, y: {y}, group: {group}, filter: {filter_text}\"\n",
    "        else:\n",
    "            target = f\"chart: grouped_bar, x: {x}, y: {y}, group: {group}\"\n",
    "        if random.random() < noise_probability:\n",
    "            input_text = introduce_noise(input_text)\n",
    "        samples.append({\"input\": input_text, \"target\": target})\n",
    "\n",
    "# 🔹 Save to CSV\n",
    "df_grouped = pd.DataFrame(samples)\n",
    "\n",
    "print(f\" Saved {len(df_grouped)} grouped bar chart samples.\")"
   ]
  },
  {
   "cell_type": "code",
   "execution_count": 103,
   "id": "24b1eb5d-144b-4eb5-9d35-c5e99f5e7bf6",
   "metadata": {},
   "outputs": [],
   "source": [
    "df = pd.concat([df, df_grouped], ignore_index=True)\n"
   ]
  },
  {
   "cell_type": "code",
   "execution_count": 104,
   "id": "61a78be6-5d88-4007-9f77-db562ab311b3",
   "metadata": {},
   "outputs": [
    {
     "data": {
      "text/plain": [
       "(6000, 2)"
      ]
     },
     "execution_count": 104,
     "metadata": {},
     "output_type": "execute_result"
    }
   ],
   "source": [
    "df.shape"
   ]
  },
  {
   "cell_type": "markdown",
   "id": "0d843d7e-78ab-41ee-9000-fdf9db40450a",
   "metadata": {},
   "source": [
    "## 3  Stacked Bar Chart"
   ]
  },
  {
   "cell_type": "code",
   "execution_count": 105,
   "id": "95c7f5e8-1c8e-43ec-9f1f-6f54e9473731",
   "metadata": {},
   "outputs": [],
   "source": [
    "stack_options = [\n",
    "    \"gender\", \"category\", \"region\", \"department\", \"year\", \"quarter\", \"month\",\n",
    "    \"platform\", \"device\", \"status\", \"program\", \"source\", \"campaign\", \"country\",\n",
    "    \"age group\", \"education level\", \"continent\", \"mission type\", \"product type\",\n",
    "    \"channel\", \"zone\", \"segment\", \"browser\", \"os\", \"state\", \"project phase\",\n",
    "    \"variant\", \"model\", \"income group\", \"alert type\"\n",
    "]\n",
    "\n",
    "stacked_bar_templates = [\n",
    "    \"Show stacked bar chart for {y} by {x} stacked by {stack}\",\n",
    "    \"Create a stacked bar graph with {x} and {y} layered by {stack}\",\n",
    "    \"Plot {y} against {x}, stack by {stack}\",\n",
    "    \"Visualize {y} by {x} and stack using {stack}\",\n",
    "    \"Stack {y} on {x} using {stack} levels\",\n",
    "    \"Bar chart with stacked {y} values grouped by {x} and {stack}\",\n",
    "    \"Display stacked bars of {y} per {x}, split by {stack}\",\n",
    "    \"Compare {y} by {x}, stacked with {stack}\",\n",
    "    \"Stack {stack} within bars showing {y} for {x}\",\n",
    "    \"Use {stack} to stack bars of {y} over {x}\",\n",
    "    \"Can you give stacked bar of {y} across {x} with {stack} as layers?\",\n",
    "    \"Give a stacked bar showing {x} vs {y}, layered by {stack}\",\n",
    "    \"Stacked bar plot for {y} over {x} using {stack}\",\n",
    "    \"Make a bar chart for {x}, stacked {y} by {stack}\",\n",
    "    \"Group {y} on {x} with stacking via {stack}\",\n",
    "    \"Stacked visualization for {x} with {y}, use {stack}\",\n",
    "    \"Layer {y} values on top of {x} by {stack}\",\n",
    "    \"Plot stacked bar with {x} categories, {y} values and stack by {stack}\",\n",
    "    \"Stack the {stack} categories in bar for {y} across {x}\",\n",
    "    \"Use {stack} as grouping variable to stack {y} bars by {x}\",\n",
    "    \"Stacked bar showing {y} for each {x}, grouped by {stack}\",\n",
    "    \"Layered bar chart: {x}, {y}, and stack by {stack}\",\n",
    "    \"How does {y} vary by {x} with stacked {stack}?\",\n",
    "    \"Create a multi-color stacked bar for {x}, {y}, and {stack}\",\n",
    "    \"Stacked plot showing {x} categories, {y} amounts, and {stack}\",\n",
    "    \"Make bars with {x} on axis, stack {y} by {stack}\",\n",
    "    \"Show grouped stacked chart for {x} and {y} with stack {stack}\",\n",
    "    \"Build stacked bars to represent {y} by {x}, layered by {stack}\",\n",
    "    \"Create bar chart using {x} vs {y} and add {stack} for stacked levels\",\n",
    "    \"I want a stacked bar chart of {y} by {x} using {stack}\"\n",
    "]\n",
    "\n",
    "stacked_samples = []\n",
    "\n",
    "filter_probability = 0.4\n",
    "\n",
    "for template in stacked_bar_templates:\n",
    "    for _ in range(100):\n",
    "        x = random.choice(x_options)\n",
    "        y = random.choice(y_options)\n",
    "        stack = random.choice(group_options)\n",
    "        input_text = template.format(x=x, y=y, stack=stack)\n",
    "\n",
    "        if random.random() < filter_probability:\n",
    "            filter_text = random.choice(filter_phrases)\n",
    "            input_text = f\"{input_text} {filter_text}\"\n",
    "            target_text = f\"chart: stacked_bar, x: {x}, y: {y}, stack: {stack}, filter: {filter_text}\"\n",
    "        else:\n",
    "            target_text = f\"chart: stacked_bar, x: {x}, y: {y}, stack: {stack}\"\n",
    "        if random.random() < noise_probability:\n",
    "            input_text = introduce_noise(input_text)\n",
    "        stacked_samples.append({\"input\": input_text, \"target\": target_text})\n",
    "\n",
    "df_stacked = pd.DataFrame(stacked_samples)\n"
   ]
  },
  {
   "cell_type": "code",
   "execution_count": 106,
   "id": "1400a85a-812e-4283-bee9-cacebf354070",
   "metadata": {},
   "outputs": [],
   "source": [
    "df = pd.concat([df, df_stacked], ignore_index=True)\n"
   ]
  },
  {
   "cell_type": "code",
   "execution_count": 107,
   "id": "209a8e9a-34f1-4e15-acda-0ae0297f83e8",
   "metadata": {},
   "outputs": [
    {
     "data": {
      "text/plain": [
       "(9000, 2)"
      ]
     },
     "execution_count": 107,
     "metadata": {},
     "output_type": "execute_result"
    }
   ],
   "source": [
    "df.shape"
   ]
  },
  {
   "cell_type": "markdown",
   "id": "5c65fa92-ece7-4a08-80e6-6ed4bf869bec",
   "metadata": {},
   "source": [
    "### 4 Horizontal Bar Chart"
   ]
  },
  {
   "cell_type": "code",
   "execution_count": 108,
   "id": "37b034fb-733c-4aab-a260-6eb1ca5f100f",
   "metadata": {},
   "outputs": [],
   "source": [
    "horizontal_bar_templates = [\n",
    "    \"Show horizontal bar chart of {y} by {x}\",\n",
    "    \"Draw a horizontal bar plot for {x} vs {y}\",\n",
    "    \"Create horizontal bar graph for {y} grouped by {x}\",\n",
    "    \"Give horizontal bars showing {x} and their {y}\",\n",
    "    \"Visualize {y} by {x} in horizontal bars\",\n",
    "    \"Horizontal bars for each {x} with value {y}\",\n",
    "    \"Display a horizontal bar chart using {x} and {y}\",\n",
    "    \"Horizontal bar graph of total {y} per {x}\",\n",
    "    \"Plot {y} on horizontal axis with categories {x}\",\n",
    "    \"Use horizontal bars to represent {y} by {x}\",\n",
    "    \"Graph horizontally: {x} vs {y}\",\n",
    "    \"Bar chart with horizontal orientation: {x} and {y}\",\n",
    "    \"Make horizontal bar chart for {y} across {x}\",\n",
    "    \"Visual: horizontal bar of {x} and {y}\",\n",
    "    \"Bar chart (horizontal) for {x} and {y}\",\n",
    "    \"Show me horizontal bar for {y} vs {x}\",\n",
    "    \"Chart showing horizontal bars of {y} grouped by {x}\",\n",
    "    \"Compare {x} and {y} using horizontal bars\",\n",
    "    \"Plot {y} values using horizontal bars for {x}\",\n",
    "    \"Create a horizontal chart for {x} and {y}\",\n",
    "    \"Horizontal bar plot with x: {x}, y: {y}\",\n",
    "    \"Graph {y} along horizontal axis with categories {x}\",\n",
    "    \"Build a horizontal bar visual with {x} and {y}\",\n",
    "    \"Chart with horizontal bars showing {x} vs {y}\",\n",
    "    \"Horizontally visualize {y} by {x}\",\n",
    "    \"Horizontal grouped bars for {x} and {y}\",\n",
    "    \"Horizontal visualization of {y} across {x}\",\n",
    "    \"Render horizontal bar chart for {y} by {x}\",\n",
    "    \"Generate horizontal bars for {x} and {y}\",\n",
    "    \"Horizontal plot of {x} with values of {y}\"\n",
    "]\n",
    "\n",
    "samples = []\n",
    "\n",
    "filter_probability = 0.4 \n",
    "\n",
    "for template in horizontal_bar_templates:\n",
    "    for _ in range(100):\n",
    "        x = random.choice(x_options)\n",
    "        y = random.choice(y_options)\n",
    "        input_text = template.format(x=x, y=y)\n",
    "\n",
    "        if random.random() < filter_probability:\n",
    "            filter_text = random.choice(filter_phrases)\n",
    "            input_text += f\" {filter_text}\"\n",
    "            target_text = f\"chart: horizontal_bar, x: {x}, y: {y}, filter: {filter_text}\"\n",
    "        else:\n",
    "            target_text = f\"chart: horizontal_bar, x: {x}, y: {y}\"\n",
    "        if random.random() < noise_probability:\n",
    "            input_text = introduce_noise(input_text)\n",
    "        samples.append({\"input\": input_text, \"target\": target_text})\n",
    "\n",
    "# Save to CSV (append or merge later if needed)\n",
    "df_horizontal_bar = pd.DataFrame(samples)\n"
   ]
  },
  {
   "cell_type": "code",
   "execution_count": 109,
   "id": "98042b61-aceb-4675-84a4-48dddd80ea06",
   "metadata": {},
   "outputs": [],
   "source": [
    "df = pd.concat([df, df_horizontal_bar], ignore_index=True)\n"
   ]
  },
  {
   "cell_type": "code",
   "execution_count": 110,
   "id": "d6bb4e15-92f9-4400-932b-ebf54737c3e1",
   "metadata": {},
   "outputs": [
    {
     "data": {
      "text/plain": [
       "(12000, 2)"
      ]
     },
     "execution_count": 110,
     "metadata": {},
     "output_type": "execute_result"
    }
   ],
   "source": [
    "df.shape"
   ]
  },
  {
   "cell_type": "markdown",
   "id": "06d1c4a1-553b-4cf6-954e-bf57c846947b",
   "metadata": {},
   "source": [
    "### 5 Line Chart"
   ]
  },
  {
   "cell_type": "code",
   "execution_count": 111,
   "id": "bae787a8-8357-4f9e-bdf2-9dbca00609de",
   "metadata": {},
   "outputs": [],
   "source": [
    "line_chart_templates = [\n",
    "    \"Show line chart for {y} over {x}\",\n",
    "    \"Draw a line graph with {x} and {y}\",\n",
    "    \"Plot line chart showing {y} across {x}\",\n",
    "    \"Visualize {y} against {x} as a line chart\",\n",
    "    \"Line chart of {y} by {x}\",\n",
    "    \"Line graph representing {y} by {x}\",\n",
    "    \"Give line chart for {x} and {y}\",\n",
    "    \"Line plot: {x} vs {y}\",\n",
    "    \"Chart {y} across {x} with a line graph\",\n",
    "    \"Draw a line showing {x} and corresponding {y}\",\n",
    "    \"Make a line chart for {x} and {y}\",\n",
    "    \"Create line chart to visualize {y} over {x}\",\n",
    "    \"Plot the trend of {y} over {x}\",\n",
    "    \"Show trend line for {y} by {x}\",\n",
    "    \"Display a line graph of {y} by {x}\",\n",
    "    \"Graph {y} as line against {x}\",\n",
    "    \"Chart line for {y} with respect to {x}\",\n",
    "    \"Line diagram showing {x} and {y}\",\n",
    "    \"Plot {y} values along {x} using lines\",\n",
    "    \"Generate line graph showing {y} across {x}\",\n",
    "    \"I want line chart of {y} vs {x}\",\n",
    "    \"Trend of {y} across {x} in a line plot\",\n",
    "    \"Display {x} and {y} in a line chart\",\n",
    "    \"Plotting {y} with respect to {x} as line\",\n",
    "    \"Line plot of total {y} over {x}\",\n",
    "    \"Give line visualization of {y} over {x}\",\n",
    "    \"Plot {y} by each {x} in a line chart\",\n",
    "    \"Line chart to track {y} over {x}\",\n",
    "    \"Show time-series of {y} vs {x}\",\n",
    "    \"Line graph tracking {x} and {y}\"\n",
    "]\n",
    "\n",
    "line_chart_samples = []\n",
    "\n",
    "filter_probability = 0.4  \n",
    "for template in line_chart_templates:\n",
    "    for _ in range(100):\n",
    "        x = random.choice(x_options)\n",
    "        y = random.choice(y_options)\n",
    "        input_text = template.format(x=x, y=y)\n",
    "\n",
    "        if random.random() < filter_probability:\n",
    "            filter_text = random.choice(filter_phrases)\n",
    "            input_text += f\" {filter_text}\"\n",
    "            target_text = f\"chart: line, x: {x}, y: {y}, filter: {filter_text}\"\n",
    "        else:\n",
    "            target_text = f\"chart: line, x: {x}, y: {y}\"\n",
    "        if random.random() < noise_probability:\n",
    "            input_text = introduce_noise(input_text)\n",
    "        line_chart_samples.append({\"input\": input_text, \"target\": target_text})\n",
    "\n",
    "df_line = pd.DataFrame(line_chart_samples)\n"
   ]
  },
  {
   "cell_type": "code",
   "execution_count": 112,
   "id": "4a13f53c-4710-473d-8248-0b9c453ce4b1",
   "metadata": {},
   "outputs": [],
   "source": [
    "df = pd.concat([df, df_line], ignore_index=True)\n"
   ]
  },
  {
   "cell_type": "code",
   "execution_count": 113,
   "id": "f36560aa-e607-4d76-bea3-27e983403b9f",
   "metadata": {},
   "outputs": [
    {
     "data": {
      "text/plain": [
       "(15000, 2)"
      ]
     },
     "execution_count": 113,
     "metadata": {},
     "output_type": "execute_result"
    }
   ],
   "source": [
    "df.shape"
   ]
  },
  {
   "cell_type": "markdown",
   "id": "35fcc372-594a-4135-87f6-567824d9de97",
   "metadata": {},
   "source": [
    "### 6 Multi-Line Chart"
   ]
  },
  {
   "cell_type": "code",
   "execution_count": 114,
   "id": "5f716634-efe0-4a26-8e01-26c0e10b4050",
   "metadata": {},
   "outputs": [],
   "source": [
    "line_group_options = [\n",
    "    \"region\", \"product\", \"gender\", \"platform\", \"category\", \"campaign\", \"store\",\n",
    "    \"device\", \"channel\", \"department\", \"program\", \"source\", \"status\", \"age group\",\n",
    "    \"education level\", \"country\", \"browser\", \"brand\", \"type\", \"model\", \"project\"\n",
    "]\n"
   ]
  },
  {
   "cell_type": "code",
   "execution_count": 115,
   "id": "28003221-41ce-4e14-89ab-71506d56fbd1",
   "metadata": {},
   "outputs": [],
   "source": [
    "multiline_templates = [\n",
    "    \"Show line chart for {y} over {x} grouped by {group}\",\n",
    "    \"Plot {y} across {x} for each {group}\",\n",
    "    \"Draw multiple lines of {y} by {x} split by {group}\",\n",
    "    \"Compare {group} in a line chart over {x} showing {y}\",\n",
    "    \"Create multi-line chart for {y} by {x} per {group}\",\n",
    "    \"Visualize {y} over {x} for different {group}\",\n",
    "    \"Line chart of {y} vs {x}, grouped by {group}\",\n",
    "    \"Multi-line chart for {y} across {x} by {group}\",\n",
    "    \"I want line graph showing {x} and {y} for {group}\",\n",
    "    \"Compare {y} trends over {x} among {group}\",\n",
    "    \"Graph showing {x} and {y} for each {group}\",\n",
    "    \"Time-series of {y} by {x} and group by {group}\",\n",
    "    \"Give me multi-line of {y} across {x} grouped with {group}\",\n",
    "    \"Multiple lines of {y} per {group} along {x}\",\n",
    "    \"Line plot of {y} for every {group} over {x}\",\n",
    "    \"Trends of {y} per {group} over {x}\",\n",
    "    \"Draw {y} on {x} with each line representing {group}\",\n",
    "    \"Visual representation of {y} across {x} per {group}\",\n",
    "    \"Line graph of {y} against {x} for {group}\",\n",
    "    \"Group-based line chart of {y} over {x}\",\n",
    "    \"Display {y} by {x}, one line per {group}\",\n",
    "    \"Show {y} trend by {x} for all {group}\",\n",
    "    \"Multi-line trend for {y} over {x} grouped on {group}\",\n",
    "    \"Compare {y} by {x} split among {group}\",\n",
    "    \"Chart: {y} vs {x} lines grouped by {group}\",\n",
    "    \"Plot of {y} across {x} with categories of {group}\",\n",
    "    \"Generate line plot showing {group} trends of {y} on {x}\",\n",
    "    \"Show me different lines for {y} over {x} for {group}\",\n",
    "    \"Line chart comparison of {group} on {x} for {y}\",\n",
    "    \"Draw line graph {y} over {x} with {group} as line separator\"\n",
    "]\n",
    "samples = []\n",
    "samples_per_template = 100\n",
    "filter_probability = 0.4\n",
    "\n",
    "for template in multiline_templates:\n",
    "    for _ in range(samples_per_template):\n",
    "        x = random.choice(x_options)\n",
    "        y = random.choice(y_options)\n",
    "        group = random.choice(group_options)\n",
    "\n",
    "        input_text = template.format(x=x, y=y, group=group)\n",
    "\n",
    "        # Add filter in ~40% cases\n",
    "        if random.random() < filter_probability:\n",
    "            filter_text = random.choice(filter_phrases)\n",
    "            input_text = f\"{input_text} {filter_text}\"\n",
    "            target_text = f\"chart: multi_line, x: {x}, y: {y}, group: {group}, filter: {filter_text}\"\n",
    "        else:\n",
    "            target_text = f\"chart: multi_line, x: {x}, y: {y}, group: {group}\"\n",
    "        if random.random() < noise_probability:\n",
    "            input_text = introduce_noise(input_text)\n",
    "        samples.append({\"input\": input_text, \"target\": target_text})\n",
    "\n",
    "\n",
    "df_multiline = pd.DataFrame(samples)\n",
    "\n"
   ]
  },
  {
   "cell_type": "code",
   "execution_count": 116,
   "id": "0d1343de-9c5f-44a5-be52-d92b23fc4492",
   "metadata": {},
   "outputs": [],
   "source": [
    "df = pd.concat([df, df_multiline], ignore_index=True)\n"
   ]
  },
  {
   "cell_type": "code",
   "execution_count": 117,
   "id": "ad03ee72-8ac0-4110-a1cf-caf6c4ddb144",
   "metadata": {},
   "outputs": [
    {
     "data": {
      "text/plain": [
       "(18000, 2)"
      ]
     },
     "execution_count": 117,
     "metadata": {},
     "output_type": "execute_result"
    }
   ],
   "source": [
    "df.shape"
   ]
  },
  {
   "cell_type": "markdown",
   "id": "b5db0065-4b13-4d84-8910-27e4711f307a",
   "metadata": {},
   "source": [
    "### 7 Step Line Chart"
   ]
  },
  {
   "cell_type": "code",
   "execution_count": 118,
   "id": "199054cc-8b5b-4b34-893a-c767e37b2b13",
   "metadata": {},
   "outputs": [],
   "source": [
    "\n",
    "step_templates = [\n",
    "    \"Show step line chart of {y} over {x}\",\n",
    "    \"Plot {y} using step chart across {x}\",\n",
    "    \"Create a step plot for {x} and {y}\",\n",
    "    \"Draw step-wise trend of {y} over {x}\",\n",
    "    \"Step chart for {x} vs {y}\",\n",
    "    \"Chart showing steps for {y} by {x}\",\n",
    "    \"Use step line to show {y} across {x}\",\n",
    "    \"Step graph for {y} with respect to {x}\",\n",
    "    \"Graph of {x} and {y} in step format\",\n",
    "    \"Step-based trend line for {y} on {x}\",\n",
    "    \"Compare {y} changes over {x} using steps\",\n",
    "    \"Stepwise progression of {y} over {x}\",\n",
    "    \"Plot step function of {y} vs {x}\",\n",
    "    \"How {y} progresses step-by-step by {x}\",\n",
    "    \"Step diagram showing {x} and {y}\",\n",
    "    \"Visualize {x} and {y} in step line chart\",\n",
    "    \"Step line showing changes in {y} by {x}\",\n",
    "    \"Draw steps for {y} values over {x}\",\n",
    "    \"Show time-based step chart for {y} and {x}\",\n",
    "    \"Step pattern for {y} across {x}\",\n",
    "    \"Give a step chart: {x} on x-axis and {y} on y-axis\",\n",
    "    \"Chart for {y} vs {x} in step format\",\n",
    "    \"Step transitions of {y} across {x}\",\n",
    "    \"Plot steps in {y} by varying {x}\",\n",
    "    \"Time-wise step plot of {y} by {x}\",\n",
    "    \"Step trend: {y} vs {x}\",\n",
    "    \"Chart of {y} by {x} using step lines\",\n",
    "    \"Step line display for {y} over {x}\",\n",
    "    \"Draw timeline of {y} with steps over {x}\",\n",
    "    \"Create step series for {y} and {x}\"\n",
    "]\n",
    "\n",
    "\n",
    "samples = []\n",
    "samples_per_template = 100\n",
    "filter_probability = 0.4\n",
    "group_probability = 0.3\n",
    "\n",
    "for template in step_templates:\n",
    "    for _ in range(samples_per_template):\n",
    "        x = random.choice(x_options)\n",
    "        y = random.choice(y_options)\n",
    "        input_text = template.format(x=x, y=y)\n",
    "        target_text = f\"chart: step_line, x: {x}, y: {y}\"\n",
    "\n",
    "        \n",
    "        if random.random() < group_probability:\n",
    "            group = random.choice(group_options)\n",
    "            input_text += f\" by {group}\"\n",
    "            target_text += f\", group: {group}\"\n",
    "\n",
    "        \n",
    "        if random.random() < filter_probability:\n",
    "            filter_text = random.choice(filter_phrases)\n",
    "            input_text += f\" {filter_text}\"\n",
    "            target_text += f\", filter: {filter_text}\"\n",
    "        if random.random() < noise_probability:\n",
    "            input_text = introduce_noise(input_text)\n",
    "        samples.append({\"input\": input_text, \"target\": target_text})\n",
    "\n",
    "\n",
    "df_step = pd.DataFrame(samples)\n",
    "\n"
   ]
  },
  {
   "cell_type": "code",
   "execution_count": 119,
   "id": "73fe080e-dcf2-47bc-8798-14b872f9655e",
   "metadata": {},
   "outputs": [],
   "source": [
    "df = pd.concat([df, df_step], ignore_index=True)\n"
   ]
  },
  {
   "cell_type": "code",
   "execution_count": 120,
   "id": "e9ec3b68-598a-476b-b779-6918cd672e4a",
   "metadata": {},
   "outputs": [
    {
     "data": {
      "text/plain": [
       "(21000, 2)"
      ]
     },
     "execution_count": 120,
     "metadata": {},
     "output_type": "execute_result"
    }
   ],
   "source": [
    "df.shape"
   ]
  },
  {
   "cell_type": "markdown",
   "id": "289988b0-b91c-4ea8-be84-70b04e0b5809",
   "metadata": {},
   "source": [
    "### 8 Area Chart"
   ]
  },
  {
   "cell_type": "code",
   "execution_count": 121,
   "id": "c9cb0a52-82aa-4765-8e15-9848315a4a4f",
   "metadata": {},
   "outputs": [],
   "source": [
    "\n",
    "area_templates = [\n",
    "    \"Show area chart of {y} over {x}\",\n",
    "    \"Plot {y} as area grouped by {x}\",\n",
    "    \"Create an area chart showing {x} and {y}\",\n",
    "    \"Visualize {y} across {x} in an area chart\",\n",
    "    \"Area plot for {y} vs {x}\",\n",
    "    \"Area chart showing change in {y} by {x}\",\n",
    "    \"Give area visualization of {y} across {x}\",\n",
    "    \"Display {x} with area for {y}\",\n",
    "    \"Draw area chart using {x} and {y}\",\n",
    "    \"Chart of {y} over {x} with area filled\"\n",
    "]\n",
    "\n",
    "\n",
    "samples = []\n",
    "samples_per_template = 100\n",
    "filter_probability = 0.4\n",
    "\n",
    "for template in area_templates:\n",
    "    for _ in range(samples_per_template):\n",
    "        x = random.choice(x_options)\n",
    "        y = random.choice(y_options)\n",
    "        input_text = template.format(x=x, y=y)\n",
    "\n",
    "        if random.random() < filter_probability:\n",
    "            filter_text = random.choice(filter_phrases)\n",
    "            input_text = f\"{input_text} {filter_text}\"\n",
    "            target_text = f\"chart: area, x: {x}, y: {y}, filter: {filter_text}\"\n",
    "        else:\n",
    "            target_text = f\"chart: area, x: {x}, y: {y}\"\n",
    "        if random.random() < noise_probability:\n",
    "            input_text = introduce_noise(input_text)\n",
    "        samples.append({\"input\": input_text, \"target\": target_text})\n",
    "\n",
    "\n",
    "df_area = pd.DataFrame(samples)\n",
    "\n"
   ]
  },
  {
   "cell_type": "code",
   "execution_count": 122,
   "id": "afe4c19b-42b1-48ae-92a6-83904795b8a4",
   "metadata": {},
   "outputs": [],
   "source": [
    "df = pd.concat([df, df_area], ignore_index=True)"
   ]
  },
  {
   "cell_type": "code",
   "execution_count": 123,
   "id": "9882310c-009f-4135-bc26-d67d0e13843c",
   "metadata": {},
   "outputs": [
    {
     "data": {
      "text/plain": [
       "(22000, 2)"
      ]
     },
     "execution_count": 123,
     "metadata": {},
     "output_type": "execute_result"
    }
   ],
   "source": [
    "df.shape"
   ]
  },
  {
   "cell_type": "markdown",
   "id": "8a8ee262-049a-4b40-a197-a346a336f698",
   "metadata": {},
   "source": [
    "## 9 Stacked Area Chart"
   ]
  },
  {
   "cell_type": "code",
   "execution_count": 124,
   "id": "dfaa3522-809c-4131-abdb-00f9b84ef539",
   "metadata": {},
   "outputs": [],
   "source": [
    "\n",
    "stacked_area_templates = [\n",
    "    \"Show stacked area chart of {y} over {x} stacked by {stack}\",\n",
    "    \"Create stacked area plot using {x}, {y}, and {stack}\",\n",
    "    \"Draw an area chart with {y} over {x}, split by {stack}\",\n",
    "    \"Plot {y} by {x} using {stack} as stack field\",\n",
    "    \"Visualize stacked area chart: x={x}, y={y}, stack={stack}\",\n",
    "    \"Stacked area for {y} vs {x} grouped by {stack}\",\n",
    "    \"Chart {y} over {x} by stacking {stack}\",\n",
    "    \"Display {stack} split in area chart of {y} by {x}\",\n",
    "    \"Area chart using {x}, with {y} stacked per {stack}\",\n",
    "    \"Breakdown {y} across {x} using stacked area chart with {stack}\"\n",
    "]\n",
    "\n",
    "\n",
    "samples = []\n",
    "samples_per_template = 100\n",
    "filter_probability = 0.4\n",
    "\n",
    "for template in stacked_area_templates:\n",
    "    for _ in range(samples_per_template):\n",
    "        x = random.choice(x_options)\n",
    "        y = random.choice(y_options)\n",
    "        stack = random.choice(stack_options)\n",
    "\n",
    "        input_text = template.format(x=x, y=y, stack=stack)\n",
    "\n",
    "        if random.random() < filter_probability:\n",
    "            filter_text = random.choice(filter_phrases)\n",
    "            input_text = f\"{input_text} {filter_text}\"\n",
    "            target_text = f\"chart: stacked_area, x: {x}, y: {y}, stack: {stack}, filter: {filter_text}\"\n",
    "        else:\n",
    "            target_text = f\"chart: stacked_area, x: {x}, y: {y}, stack: {stack}\"\n",
    "        if random.random() < noise_probability:\n",
    "            input_text = introduce_noise(input_text)\n",
    "        samples.append({\"input\": input_text, \"target\": target_text})\n",
    "\n",
    "\n",
    "df_stacked_area = pd.DataFrame(samples)\n"
   ]
  },
  {
   "cell_type": "code",
   "execution_count": 125,
   "id": "ccabc8fe-4b93-4a1b-b73c-daaf7dafe796",
   "metadata": {},
   "outputs": [],
   "source": [
    "df = pd.concat([df, df_stacked_area], ignore_index=True)"
   ]
  },
  {
   "cell_type": "code",
   "execution_count": 126,
   "id": "4138ad7b-3e9e-44c9-87c5-7066666e6e49",
   "metadata": {},
   "outputs": [
    {
     "data": {
      "text/plain": [
       "(23000, 2)"
      ]
     },
     "execution_count": 126,
     "metadata": {},
     "output_type": "execute_result"
    }
   ],
   "source": [
    "df.shape"
   ]
  },
  {
   "cell_type": "markdown",
   "id": "ed99f306-d9bd-4416-9979-2dfce341a54b",
   "metadata": {},
   "source": [
    "### 10 Histogram"
   ]
  },
  {
   "cell_type": "code",
   "execution_count": 127,
   "id": "de7a30f5-8018-4a37-85fe-464ac2af6d00",
   "metadata": {},
   "outputs": [],
   "source": [
    "\n",
    "histogram_templates = [\n",
    "    \"Show histogram of {y}\",\n",
    "    \"Plot histogram for {y}\",\n",
    "    \"Create histogram of {y} values\",\n",
    "    \"Visualize the distribution of {y}\",\n",
    "    \"Give histogram showing distribution of {y}\",\n",
    "    \"Draw a histogram chart for {y}\",\n",
    "    \"Histogram of {y}\",\n",
    "    \"Chart the frequency distribution of {y}\",\n",
    "    \"Bar-style histogram for {y}\",\n",
    "    \"How is {y} distributed?\",\n",
    "    \"Show how {y} is spread in histogram\",\n",
    "    \"Frequency histogram of {y}\",\n",
    "    \"Histogram displaying {y}\",\n",
    "    \"Distribution plot of {y}\",\n",
    "    \"Show bars for distribution of {y}\"\n",
    "]\n",
    "\n",
    "samples = []\n",
    "samples_per_template = 100\n",
    "filter_probability = 0.4\n",
    "\n",
    "for template in histogram_templates:\n",
    "    for _ in range(samples_per_template):\n",
    "        y = random.choice(y_options)\n",
    "        input_text = template.format(y=y)\n",
    "\n",
    "        if random.random() < filter_probability:\n",
    "            filter_text = random.choice(filter_phrases)\n",
    "            input_text = f\"{input_text} {filter_text}\"\n",
    "            target_text = f\"chart: histogram, y: {y}, filter: {filter_text}\"\n",
    "        else:\n",
    "            target_text = f\"chart: histogram, y: {y}\"\n",
    "        if random.random() < noise_probability:\n",
    "            input_text = introduce_noise(input_text)\n",
    "            \n",
    "        samples.append({\"input\": input_text, \"target\": target_text})\n",
    "\n",
    "\n",
    "df_histogram = pd.DataFrame(samples)\n"
   ]
  },
  {
   "cell_type": "code",
   "execution_count": 128,
   "id": "f232bc38-1c36-4209-b993-cb592b83adca",
   "metadata": {},
   "outputs": [],
   "source": [
    "df = pd.concat([df, df_histogram], ignore_index=True)"
   ]
  },
  {
   "cell_type": "code",
   "execution_count": 129,
   "id": "4292d042-05c4-41b0-bf1d-926274077b1a",
   "metadata": {},
   "outputs": [
    {
     "data": {
      "text/plain": [
       "(24500, 2)"
      ]
     },
     "execution_count": 129,
     "metadata": {},
     "output_type": "execute_result"
    }
   ],
   "source": [
    "df.shape"
   ]
  },
  {
   "cell_type": "markdown",
   "id": "e0e9be6d-e2cc-498c-8a48-6311419a6622",
   "metadata": {},
   "source": [
    "### 11 Box Plot"
   ]
  },
  {
   "cell_type": "code",
   "execution_count": 130,
   "id": "bfe3b7d8-7314-4fbc-a8bd-69355223d13d",
   "metadata": {},
   "outputs": [],
   "source": [
    "\n",
    "\n",
    "box_templates = [\n",
    "    \"Show box plot of {y} by {x}\",\n",
    "    \"Create boxplot of {y} across {x}\",\n",
    "    \"Visualize distribution of {y} for each {x}\",\n",
    "    \"Draw a box chart for {x} with respect to {y}\",\n",
    "    \"Box plot comparing {y} for different {x}\",\n",
    "    \"Give a boxplot showing {y} grouped by {x}\",\n",
    "    \"Plot {y} grouped by {x} as box plot\",\n",
    "    \"Boxplot for {x} and {y}\",\n",
    "    \"How does {y} vary with {x} (box plot)?\",\n",
    "    \"Display {y} distribution by {x} in box form\",\n",
    "    \"Box chart: {x} vs {y}\",\n",
    "    \"Box plot of {x} vs {y}\",\n",
    "    \"boxplot of {x} and {y}\",\n",
    "    \"Chart boxplot {y} grouped by {x}\",\n",
    "    \"Plot box style chart for {y} by {x}\"\n",
    "]\n",
    "\n",
    "\n",
    "samples = []\n",
    "samples_per_template = 100\n",
    "filter_probability = 0.4\n",
    "\n",
    "for template in box_templates:\n",
    "    for _ in range(samples_per_template):\n",
    "        x = random.choice(x_options)\n",
    "        y = random.choice(y_options)\n",
    "        input_text = template.format(x=x, y=y)\n",
    "\n",
    "        if random.random() < filter_probability:\n",
    "            filter_text = random.choice(filter_phrases)\n",
    "            input_text = f\"{input_text} {filter_text}\"\n",
    "            target_text = f\"chart: box, x: {x}, y: {y}, filter: {filter_text}\"\n",
    "        else:\n",
    "            target_text = f\"chart: box, x: {x}, y: {y}\"\n",
    "        if random.random() < noise_probability:\n",
    "            input_text = introduce_noise(input_text)\n",
    "            \n",
    "        samples.append({\"input\": input_text, \"target\": target_text})\n",
    "\n",
    "\n",
    "df_box = pd.DataFrame(samples)\n"
   ]
  },
  {
   "cell_type": "code",
   "execution_count": 131,
   "id": "dd95372a-9c03-4540-8c9f-04bb2181739a",
   "metadata": {},
   "outputs": [],
   "source": [
    "df = pd.concat([df, df_box], ignore_index=True)"
   ]
  },
  {
   "cell_type": "code",
   "execution_count": 132,
   "id": "a4eded01-949c-40a6-8c4b-120a433bfe55",
   "metadata": {},
   "outputs": [
    {
     "data": {
      "text/plain": [
       "(26000, 2)"
      ]
     },
     "execution_count": 132,
     "metadata": {},
     "output_type": "execute_result"
    }
   ],
   "source": [
    "df.shape"
   ]
  },
  {
   "cell_type": "markdown",
   "id": "9d686686-a27c-434b-9eb5-951bf4616516",
   "metadata": {},
   "source": [
    "### 12 Violin Plot"
   ]
  },
  {
   "cell_type": "code",
   "execution_count": 133,
   "id": "d2ec0b7e-5903-4902-92ac-d23da1cf6b14",
   "metadata": {},
   "outputs": [],
   "source": [
    "\n",
    "violin_templates = [\n",
    "    \"Show violin plot of {y} by {x}\",\n",
    "    \"Plot a violin chart for {x} and {y}\",\n",
    "    \"Create violin plot grouped by {x} for {y}\",\n",
    "    \"Visualize {y} distribution by {x} using a violin plot\",\n",
    "    \"Draw a violin graph showing {y} across {x}\",\n",
    "    \"Violin plot of {y} over {x}\",\n",
    "    \"Chart {y} across different {x} using violin\",\n",
    "    \"Display {x} vs {y} in violin plot\",\n",
    "    \"Give violin distribution of {y} by {x}\",\n",
    "    \"Violin plot: {x} categories and {y} spread\",\n",
    "    \"Show category-wise {y} using violin chart\",\n",
    "    \"Violin style plot of {x} against {y}\",\n",
    "    \"Box and density plot (violin) of {y} across {x}\",\n",
    "    \"Compare {x} on {y} using violin plots\",\n",
    "    \"Draw violin shape distribution of {y} over {x}\"\n",
    "]\n",
    "\n",
    "samples = []\n",
    "samples_per_template = 100\n",
    "filter_probability = 0.4\n",
    "\n",
    "for template in violin_templates:\n",
    "    for _ in range(samples_per_template):\n",
    "        x = random.choice(x_options)\n",
    "        y = random.choice(y_options)\n",
    "        input_text = template.format(x=x, y=y)\n",
    "\n",
    "        if random.random() < filter_probability:\n",
    "            filter_text = random.choice(filter_phrases)\n",
    "            input_text = f\"{input_text} {filter_text}\"\n",
    "            target_text = f\"chart: violin, x: {x}, y: {y}, filter: {filter_text}\"\n",
    "        else:\n",
    "            target_text = f\"chart: violin, x: {x}, y: {y}\"\n",
    "        if random.random() < noise_probability:\n",
    "            input_text = introduce_noise(input_text)\n",
    "            \n",
    "        samples.append({\"input\": input_text, \"target\": target_text})\n",
    "\n",
    "df_violin = pd.DataFrame(samples)\n"
   ]
  },
  {
   "cell_type": "code",
   "execution_count": 134,
   "id": "c4473069-ba2e-4bed-8815-1a8eaf9abf73",
   "metadata": {},
   "outputs": [],
   "source": [
    "df = pd.concat([df, df_violin], ignore_index=True)"
   ]
  },
  {
   "cell_type": "code",
   "execution_count": 135,
   "id": "1cada479-e40c-44e7-9178-c1e40f18fdba",
   "metadata": {},
   "outputs": [
    {
     "data": {
      "text/plain": [
       "(27500, 2)"
      ]
     },
     "execution_count": 135,
     "metadata": {},
     "output_type": "execute_result"
    }
   ],
   "source": [
    "df.shape"
   ]
  },
  {
   "cell_type": "markdown",
   "id": "b0cb0fec-b2e4-473e-a55f-69705b1f7575",
   "metadata": {},
   "source": [
    "### 13 Pie Chart"
   ]
  },
  {
   "cell_type": "code",
   "execution_count": 136,
   "id": "60ad98fc-16ba-4587-8e4f-a71dcbac15ed",
   "metadata": {},
   "outputs": [],
   "source": [
    "\n",
    "pie_templates = [\n",
    "    \"Show pie chart of {y} by {x}\",\n",
    "    \"Create a pie chart for {x} with {y} values\",\n",
    "    \"Pie chart showing {x} and their share of {y}\",\n",
    "    \"Visualize {y} distribution across {x} using pie chart\",\n",
    "    \"Draw pie chart of {x} based on {y}\",\n",
    "    \"Make a pie of {x} using {y}\",\n",
    "    \"Pie graph for {x} grouped by {y}\",\n",
    "    \"I want a pie chart for {y} and {x}\",\n",
    "    \"Give a pie showing proportion of {y} for each {x}\",\n",
    "    \"Display pie chart of {x} with {y}\",\n",
    "    \"Pie chart of total {y} by {x}\",\n",
    "    \"Chart type pie, x = {x}, y = {y}\",\n",
    "    \"Pie visualization for {x} and {y}\",\n",
    "    \"Represent {y} split by {x} as pie\",\n",
    "    \"Use pie chart to show {y} across {x}\"\n",
    "]\n",
    "\n",
    "samples = []\n",
    "samples_per_template = 100\n",
    "filter_probability = 0.4\n",
    "\n",
    "for template in pie_templates:\n",
    "    for _ in range(samples_per_template):\n",
    "        x = random.choice(x_options)\n",
    "        y = random.choice(y_options)\n",
    "        input_text = template.format(x=x, y=y)\n",
    "\n",
    "        if random.random() < filter_probability:\n",
    "            filter_text = random.choice(filter_phrases)\n",
    "            input_text = f\"{input_text} {filter_text}\"\n",
    "            target_text = f\"chart: pie, x: {x}, y: {y}, filter: {filter_text}\"\n",
    "        else:\n",
    "            target_text = f\"chart: pie, x: {x}, y: {y}\"\n",
    "            \n",
    "        if random.random() < noise_probability:\n",
    "            input_text = introduce_noise(input_text)\n",
    "            \n",
    "        samples.append({\"input\": input_text, \"target\": target_text})\n",
    "\n",
    "\n",
    "df_pie = pd.DataFrame(samples)\n"
   ]
  },
  {
   "cell_type": "code",
   "execution_count": 137,
   "id": "7005dfef-7e7f-43fc-94b4-21429e6255d4",
   "metadata": {},
   "outputs": [],
   "source": [
    "df = pd.concat([df, df_pie], ignore_index=True)"
   ]
  },
  {
   "cell_type": "code",
   "execution_count": 138,
   "id": "8ebd9ca0-7d39-479e-8211-c788481b8cbe",
   "metadata": {},
   "outputs": [
    {
     "data": {
      "text/plain": [
       "(29000, 2)"
      ]
     },
     "execution_count": 138,
     "metadata": {},
     "output_type": "execute_result"
    }
   ],
   "source": [
    "df.shape"
   ]
  },
  {
   "cell_type": "markdown",
   "id": "b3ca0738-4be6-4f1e-9d3a-f7ebec410636",
   "metadata": {},
   "source": [
    "### 14 Donut Chart"
   ]
  },
  {
   "cell_type": "code",
   "execution_count": 139,
   "id": "ec2f30da-958d-4d51-848b-12c7f083588f",
   "metadata": {},
   "outputs": [],
   "source": [
    "\n",
    "donut_templates = [\n",
    "    \"Show donut chart of {y} by {x}\",\n",
    "    \"Donut chart showing {x} with values of {y}\",\n",
    "    \"Visualize {y} for each {x} in a donut chart\",\n",
    "    \"Create donut chart using {x} and {y}\",\n",
    "    \"Donut graph showing proportion of {y} per {x}\",\n",
    "    \"Display donut chart for {y} grouped by {x}\",\n",
    "    \"Donut representation of {x} based on {y}\",\n",
    "    \"Draw a donut with {x} and {y}\",\n",
    "    \"Plot donut chart using {x} and their {y}\",\n",
    "    \"Generate donut chart with {x} vs {y}\",\n",
    "    \"I want donut chart of {y} by {x}\",\n",
    "    \"Donut chart with x = {x}, y = {y}\",\n",
    "    \"Make donut chart for showing {x} and {y}\",\n",
    "    \"How {y} is split by {x} using donut\",\n",
    "    \"Chart {x} vs {y} in donut format\"\n",
    "]\n",
    "\n",
    "\n",
    "samples = []\n",
    "\n",
    "for template in donut_templates:\n",
    "    for _ in range(samples_per_template):\n",
    "        x = random.choice(x_options)\n",
    "        y = random.choice(y_options)\n",
    "        input_text = template.format(x=x, y=y)\n",
    "\n",
    "        if random.random() < filter_probability:\n",
    "            filter_text = random.choice(filter_phrases)\n",
    "            input_text = f\"{input_text} {filter_text}\"\n",
    "            target_text = f\"chart: donut, x: {x}, y: {y}, filter: {filter_text}\"\n",
    "        else:\n",
    "            target_text = f\"chart: donut, x: {x}, y: {y}\"\n",
    "            \n",
    "        if random.random() < noise_probability:\n",
    "            input_text = introduce_noise(input_text)\n",
    "            \n",
    "        samples.append({\"input\": input_text, \"target\": target_text})\n",
    "\n",
    "\n",
    "df_donut = pd.DataFrame(samples)\n",
    "\n"
   ]
  },
  {
   "cell_type": "code",
   "execution_count": 140,
   "id": "5f184923-50d7-454a-a404-bfb77cc06faa",
   "metadata": {},
   "outputs": [],
   "source": [
    "df = pd.concat([df, df_donut], ignore_index=True)"
   ]
  },
  {
   "cell_type": "code",
   "execution_count": 141,
   "id": "8e2dff0d-7d63-419a-b54d-17d90429a38f",
   "metadata": {},
   "outputs": [
    {
     "data": {
      "text/plain": [
       "(30500, 2)"
      ]
     },
     "execution_count": 141,
     "metadata": {},
     "output_type": "execute_result"
    }
   ],
   "source": [
    "df.shape"
   ]
  },
  {
   "cell_type": "markdown",
   "id": "09290052-fa37-4a04-b019-7e31da44195d",
   "metadata": {},
   "source": [
    "### 15 Treemap"
   ]
  },
  {
   "cell_type": "code",
   "execution_count": 142,
   "id": "a1b4ec96-4a1b-4cf2-a17a-bfe787cd96be",
   "metadata": {},
   "outputs": [],
   "source": [
    "\n",
    "treemap_templates = [\n",
    "    \"Show treemap of {y} by {x}\",\n",
    "    \"Create a treemap for {x} and {y}\",\n",
    "    \"Treemap showing {x} based on {y}\",\n",
    "    \"Visualize {y} across {x} using treemap\",\n",
    "    \"Plot treemap with {x} as category and {y} as value\",\n",
    "    \"Generate treemap of {x} and {y}\",\n",
    "    \"Display treemap where {x} is categorized by {y}\",\n",
    "    \"Draw treemap of {x} vs {y}\",\n",
    "    \"Treemap visualization for {x} and their {y}\",\n",
    "    \"Build treemap chart using {x} for {y}\",\n",
    "    \"Chart {x} by {y} in a treemap\",\n",
    "    \"How does {y} spread over {x} in treemap\",\n",
    "    \"Treemap using {x} and corresponding {y}\",\n",
    "    \"Treemap view of {x} by {y}\",\n",
    "    \"Treemap: visualize {y} grouped by {x}\"\n",
    "]\n",
    "\n",
    "\n",
    "samples = []\n",
    "\n",
    "\n",
    "for template in treemap_templates:\n",
    "    for _ in range(samples_per_template):\n",
    "        x = random.choice(x_options)\n",
    "        y = random.choice(y_options)\n",
    "        input_text = template.format(x=x, y=y)\n",
    "\n",
    "        if random.random() < filter_probability:\n",
    "            filter_text = random.choice(filter_phrases)\n",
    "            input_text = f\"{input_text} {filter_text}\"\n",
    "            target_text = f\"chart: treemap, x: {x}, y: {y}, filter: {filter_text}\"\n",
    "        else:\n",
    "            target_text = f\"chart: treemap, x: {x}, y: {y}\"\n",
    "\n",
    "        if random.random() < noise_probability:\n",
    "            input_text = introduce_noise(input_text)\n",
    "\n",
    "        samples.append({\"input\": input_text, \"target\": target_text})\n",
    "\n",
    "\n",
    "df_treemap = pd.DataFrame(samples)\n"
   ]
  },
  {
   "cell_type": "code",
   "execution_count": 143,
   "id": "1384951e-ce3a-4a68-8a12-0407495473ab",
   "metadata": {},
   "outputs": [],
   "source": [
    "df = pd.concat([df, df_treemap], ignore_index=True)"
   ]
  },
  {
   "cell_type": "code",
   "execution_count": 144,
   "id": "92107689-6626-4759-9cc9-32de3ef2ed75",
   "metadata": {},
   "outputs": [
    {
     "data": {
      "text/plain": [
       "(32000, 2)"
      ]
     },
     "execution_count": 144,
     "metadata": {},
     "output_type": "execute_result"
    }
   ],
   "source": [
    "df.shape"
   ]
  },
  {
   "cell_type": "markdown",
   "id": "8be7dac3-8a9c-4b8a-8921-fe5b9c631724",
   "metadata": {},
   "source": [
    "### 16 Waterfall Chart"
   ]
  },
  {
   "cell_type": "code",
   "execution_count": 145,
   "id": "9a58281b-5042-4b10-a135-e88264707f0d",
   "metadata": {},
   "outputs": [],
   "source": [
    "\n",
    "waterfall_templates = [\n",
    "    \"Show waterfall chart for {y} by {x}\",\n",
    "    \"Create a waterfall chart of {y} for each {x}\",\n",
    "    \"Waterfall graph showing {y} over {x}\",\n",
    "    \"Visualize {y} changes across {x} using waterfall\",\n",
    "    \"Plot waterfall with {x} as steps and {y} as values\",\n",
    "    \"How does {y} change over {x} in waterfall style?\",\n",
    "    \"Build a waterfall breakdown of {y} by {x}\",\n",
    "    \"Waterfall view for {y} with step {x}\",\n",
    "    \"Generate waterfall chart using {x} and {y}\",\n",
    "    \"Draw {x} vs {y} in waterfall chart\",\n",
    "    \"Compare {y} through {x} stages using waterfall\",\n",
    "    \"I want a waterfall of {y} for different {x}\",\n",
    "    \"Give waterfall chart of {y} grouped by {x}\",\n",
    "    \"Waterfall format for {y} divided by {x}\",\n",
    "    \"Chart {y} by {x} in waterfall format\"\n",
    "]\n",
    "\n",
    "\n",
    "samples = []\n",
    "\n",
    "\n",
    "for template in waterfall_templates:\n",
    "    for _ in range(samples_per_template):\n",
    "        x = random.choice(x_options)\n",
    "        y = random.choice(y_options)\n",
    "        input_text = template.format(x=x, y=y)\n",
    "\n",
    "        if random.random() < filter_probability:\n",
    "            filter_text = random.choice(filter_phrases)\n",
    "            input_text = f\"{input_text} {filter_text}\"\n",
    "            target_text = f\"chart: waterfall, x: {x}, y: {y}, filter: {filter_text}\"\n",
    "        else:\n",
    "            target_text = f\"chart: waterfall, x: {x}, y: {y}\"\n",
    "            \n",
    "        if random.random() < noise_probability:\n",
    "            input_text = introduce_noise(input_text)\n",
    "            \n",
    "        samples.append({\"input\": input_text, \"target\": target_text})\n",
    "\n",
    "\n",
    "df_waterfall = pd.DataFrame(samples)\n"
   ]
  },
  {
   "cell_type": "code",
   "execution_count": 146,
   "id": "c139298a-3e37-4ddb-a61a-b83f53a19252",
   "metadata": {},
   "outputs": [],
   "source": [
    "df = pd.concat([df, df_waterfall], ignore_index=True)"
   ]
  },
  {
   "cell_type": "code",
   "execution_count": 147,
   "id": "036ef3eb-ff6f-4196-9049-68e3d02e4a18",
   "metadata": {},
   "outputs": [
    {
     "data": {
      "text/plain": [
       "(33500, 2)"
      ]
     },
     "execution_count": 147,
     "metadata": {},
     "output_type": "execute_result"
    }
   ],
   "source": [
    "df.shape"
   ]
  },
  {
   "cell_type": "markdown",
   "id": "26c982f9-365c-4fe4-b319-710464bae140",
   "metadata": {},
   "source": [
    "### 17  Funnel chart"
   ]
  },
  {
   "cell_type": "code",
   "execution_count": 148,
   "id": "954ea87d-ea11-4166-bc4e-c3c90cfc2411",
   "metadata": {},
   "outputs": [],
   "source": [
    "\n",
    "funnel_templates = [\n",
    "    \"Show funnel chart for {y} by {x}\",\n",
    "    \"Visualize {y} across {x} in funnel format\",\n",
    "    \"Funnel view showing {x} stages with {y}\",\n",
    "    \"Plot funnel chart of {x} vs {y}\",\n",
    "    \"Create funnel chart using {x} and {y}\",\n",
    "    \"Funnel of {y} distributed by {x}\",\n",
    "    \"Give a funnel representation of {y} by {x}\",\n",
    "    \"Chart {y} by {x} in funnel style\",\n",
    "    \"Draw a funnel for {x} showing {y}\",\n",
    "    \"Funnel visualization for {y} through {x}\",\n",
    "    \"Compare {y} across {x} steps in a funnel\",\n",
    "    \"Funnel for {x} showing drop in {y}\",\n",
    "    \"Display funnel chart with {y} along {x}\",\n",
    "    \"I want a funnel chart for {y} with {x}\",\n",
    "    \"Breakdown of {y} through {x} in funnel view\"\n",
    "]\n",
    "\n",
    "\n",
    "samples = []\n",
    "\n",
    "\n",
    "for template in funnel_templates:\n",
    "    for _ in range(samples_per_template):\n",
    "        x = random.choice(x_options)\n",
    "        y = random.choice(y_options)\n",
    "        input_text = template.format(x=x, y=y)\n",
    "\n",
    "        if random.random() < filter_probability:\n",
    "            filter_text = random.choice(filter_phrases)\n",
    "            input_text = f\"{input_text} {filter_text}\"\n",
    "            target_text = f\"chart: funnel, x: {x}, y: {y}, filter: {filter_text}\"\n",
    "        else:\n",
    "            target_text = f\"chart: funnel, x: {x}, y: {y}\"\n",
    "            \n",
    "        if random.random() < noise_probability:\n",
    "            input_text = introduce_noise(input_text)\n",
    "            \n",
    "        samples.append({\"input\": input_text, \"target\": target_text})\n",
    "\n",
    "df_funnel = pd.DataFrame(samples)\n",
    "\n"
   ]
  },
  {
   "cell_type": "code",
   "execution_count": 149,
   "id": "61d0d78b-84d4-44db-852e-cb77b88898e9",
   "metadata": {},
   "outputs": [],
   "source": [
    "df = pd.concat([df, df_funnel], ignore_index=True)"
   ]
  },
  {
   "cell_type": "code",
   "execution_count": 150,
   "id": "99f2fcd7-406b-4fec-8b8b-69279bee0eef",
   "metadata": {},
   "outputs": [
    {
     "data": {
      "text/plain": [
       "(35000, 2)"
      ]
     },
     "execution_count": 150,
     "metadata": {},
     "output_type": "execute_result"
    }
   ],
   "source": [
    "df.shape"
   ]
  },
  {
   "cell_type": "markdown",
   "id": "c4b5bab3-373e-4f7b-bbfb-674510e55cba",
   "metadata": {},
   "source": [
    "### 18  Gauge Chart"
   ]
  },
  {
   "cell_type": "code",
   "execution_count": 151,
   "id": "3d03fae2-f125-4b44-8f31-5b0dc6bdc519",
   "metadata": {},
   "outputs": [],
   "source": [
    "\n",
    "gauge_y_options = [\n",
    "    \"satisfaction\", \"efficiency\", \"accuracy\", \"success rate\", \"score\", \"rating\",\n",
    "    \"completion rate\", \"performance\", \"utilization\", \"conversion rate\",\n",
    "    \"customer satisfaction\", \"coverage\", \"growth\", \"availability\", \"usage rate\",\n",
    "    \"progress\", \"load\", \"response rate\", \"reach\", \"impact\"\n",
    "]\n",
    "\n",
    "\n",
    "gauge_templates = [\n",
    "    \"Show gauge chart for {y}\",\n",
    "    \"Gauge visualization of {y}\",\n",
    "    \"Display {y} on a gauge\",\n",
    "    \"Visualize {y} with a gauge chart\",\n",
    "    \"Plot {y} in dial chart\",\n",
    "    \"Represent {y} using gauge\",\n",
    "    \"Give gauge representation of {y}\",\n",
    "    \"Draw a gauge showing {y}\",\n",
    "    \"Gauge format chart for {y}\",\n",
    "    \"I want a gauge chart for {y}\",\n",
    "    \"Chart {y} using a dial\",\n",
    "    \"KPI gauge for {y}\",\n",
    "    \"Indicator dial chart for {y}\",\n",
    "    \"Use gauge to represent {y}\",\n",
    "    \"Dial style visualization of {y}\"\n",
    "]\n",
    "\n",
    "samples = []\n",
    "\n",
    "\n",
    "for template in gauge_templates:\n",
    "    for _ in range(samples_per_template):\n",
    "        y = random.choice(gauge_y_options)\n",
    "        input_text = template.format(y=y)\n",
    "\n",
    "        if random.random() < filter_probability:\n",
    "            filter_text = random.choice(filter_phrases)\n",
    "            input_text = f\"{input_text} {filter_text}\"\n",
    "            target_text = f\"chart: gauge, y: {y}, filter: {filter_text}\"\n",
    "        else:\n",
    "            target_text = f\"chart: gauge, y: {y}\"\n",
    "\n",
    "        if random.random() < noise_probability:\n",
    "            input_text = introduce_noise(input_text)\n",
    "\n",
    "        samples.append({\"input\": input_text, \"target\": target_text})\n",
    "\n",
    "\n",
    "df_gauge = pd.DataFrame(samples)\n"
   ]
  },
  {
   "cell_type": "code",
   "execution_count": 152,
   "id": "f49eaf25-fbe4-48a5-a19f-f84ead300228",
   "metadata": {},
   "outputs": [],
   "source": [
    "df = pd.concat([df, df_gauge], ignore_index=True)"
   ]
  },
  {
   "cell_type": "code",
   "execution_count": 153,
   "id": "b2746a54-2ccf-4627-a87e-71594047aece",
   "metadata": {},
   "outputs": [
    {
     "data": {
      "text/plain": [
       "(36500, 2)"
      ]
     },
     "execution_count": 153,
     "metadata": {},
     "output_type": "execute_result"
    }
   ],
   "source": [
    "df.shape"
   ]
  },
  {
   "cell_type": "markdown",
   "id": "b38af418-248e-4f6d-b90f-6db155e3b572",
   "metadata": {},
   "source": [
    "### 19 KPI Card / Metric"
   ]
  },
  {
   "cell_type": "code",
   "execution_count": 154,
   "id": "64c5fef4-3b45-41c5-bd39-60f3bd6d16e9",
   "metadata": {},
   "outputs": [],
   "source": [
    "\n",
    "kpi_y_options = [\n",
    "    \"revenue\", \"sales\", \"profit\", \"budget\", \"expenses\", \"score\", \"rating\",\n",
    "    \"satisfaction\", \"efficiency\", \"accuracy\", \"conversion rate\", \"performance\",\n",
    "    \"success rate\", \"completion rate\", \"usage\", \"frequency\", \"views\", \"likes\",\n",
    "    \"clicks\", \"downloads\", \"loss\", \"growth\", \"reach\", \"impact\", \"turnover\"\n",
    "]\n",
    "\n",
    "kpi_templates = [\n",
    "    \"Show KPI card for {y}\",\n",
    "    \"Display key metric of {y}\",\n",
    "    \"Give a KPI card showing {y}\",\n",
    "    \"Metric card for {y}\",\n",
    "    \"I want a KPI for {y}\",\n",
    "    \"Visualize {y} in metric format\",\n",
    "    \"KPI card to show {y}\",\n",
    "    \"Card view of {y}\",\n",
    "    \"Highlight {y} in a KPI\",\n",
    "    \"Show value of {y} in KPI format\",\n",
    "    \"Indicator card for {y}\",\n",
    "    \"Display current {y}\",\n",
    "    \"Current value of {y} as card\",\n",
    "    \"Simple KPI showing {y}\",\n",
    "    \"What is the KPI for {y}?\"\n",
    "]\n",
    "\n",
    "\n",
    "samples = []\n",
    "\n",
    "for template in kpi_templates:\n",
    "    for _ in range(samples_per_template):\n",
    "        y = random.choice(kpi_y_options)\n",
    "        input_text = template.format(y=y)\n",
    "\n",
    "        if random.random() < filter_probability:\n",
    "            filter_text = random.choice(filter_phrases)\n",
    "            input_text = f\"{input_text} {filter_text}\"\n",
    "            target_text = f\"chart: kpi, y: {y}, filter: {filter_text}\"\n",
    "        else:\n",
    "            target_text = f\"chart: kpi, y: {y}\"\n",
    "            \n",
    "        if random.random() < noise_probability:\n",
    "            input_text = introduce_noise(input_text)\n",
    "            \n",
    "        samples.append({\"input\": input_text, \"target\": target_text})\n",
    "\n",
    "\n",
    "df_kpi = pd.DataFrame(samples)\n"
   ]
  },
  {
   "cell_type": "code",
   "execution_count": 155,
   "id": "0d59791c-32f5-4153-858c-5ecc01d5d014",
   "metadata": {},
   "outputs": [],
   "source": [
    "df = pd.concat([df, df_kpi], ignore_index=True)"
   ]
  },
  {
   "cell_type": "code",
   "execution_count": 156,
   "id": "258ae9c7-c7ac-4958-ad3b-cc0a4a466c07",
   "metadata": {},
   "outputs": [
    {
     "data": {
      "text/plain": [
       "(38000, 2)"
      ]
     },
     "execution_count": 156,
     "metadata": {},
     "output_type": "execute_result"
    }
   ],
   "source": [
    "df.shape"
   ]
  },
  {
   "cell_type": "markdown",
   "id": "9c5e5568-1d66-4d68-88e4-69ca25f67c69",
   "metadata": {},
   "source": [
    "### 20 Combo Chart (Bar + Line on Dual Axis)"
   ]
  },
  {
   "cell_type": "code",
   "execution_count": 157,
   "id": "c701c043-d858-4e93-887d-265d6a255269",
   "metadata": {},
   "outputs": [],
   "source": [
    "\n",
    "\n",
    "combo_templates = [\n",
    "    \"Show combo chart of {y1} and {y2} by {x}\",\n",
    "    \"Draw bar and line chart of {y1} and {y2} grouped by {x}\",\n",
    "    \"Combo chart: {y1} (bar) and {y2} (line) across {x}\",\n",
    "    \"Visualize {y1} and {y2} over {x} using bar and line\",\n",
    "    \"Create a combo bar-line chart for {y1} and {y2} vs {x}\",\n",
    "    \"Plot {y1} and {y2} using bars and lines grouped by {x}\",\n",
    "    \"Mixed chart showing {x} vs {y1} and {y2}\",\n",
    "    \"Bar chart for {y1} with line for {y2} across {x}\",\n",
    "    \"Make a dual-axis chart of {y1} and {y2} by {x}\",\n",
    "    \"Chart: {y1} and {y2} on same x-axis ({x})\"\n",
    "]\n",
    "\n",
    "samples = []\n",
    "\n",
    "for template in combo_templates:\n",
    "    for _ in range(samples_per_template):\n",
    "        x = random.choice(x_options)\n",
    "        y1, y2 = random.sample(y_options, 2)  # Ensure different y1 and y2\n",
    "\n",
    "        input_text = template.format(x=x, y1=y1, y2=y2)\n",
    "\n",
    "        if random.random() < filter_probability:\n",
    "            filter_text = random.choice(filter_phrases)\n",
    "            input_text = f\"{input_text} {filter_text}\"\n",
    "            target_text = f\"chart: combo, x: {x}, y1: {y1}, y2: {y2}, filter: {filter_text}\"\n",
    "        else:\n",
    "            target_text = f\"chart: combo, x: {x}, y1: {y1}, y2: {y2}\"\n",
    "            \n",
    "        if random.random() < noise_probability:\n",
    "            input_text = introduce_noise(input_text)\n",
    "            \n",
    "        samples.append({\"input\": input_text, \"target\": target_text})\n",
    "\n",
    "df_combo = pd.DataFrame(samples)\n"
   ]
  },
  {
   "cell_type": "code",
   "execution_count": 158,
   "id": "9fc59568-056a-4868-b9eb-0eb4eb14ef70",
   "metadata": {},
   "outputs": [],
   "source": [
    "df = pd.concat([df, df_combo], ignore_index=True)"
   ]
  },
  {
   "cell_type": "code",
   "execution_count": 159,
   "id": "62ff8bcc-475f-402a-9523-9f882ab47e1c",
   "metadata": {},
   "outputs": [
    {
     "data": {
      "text/plain": [
       "(39000, 2)"
      ]
     },
     "execution_count": 159,
     "metadata": {},
     "output_type": "execute_result"
    }
   ],
   "source": [
    "df.shape"
   ]
  },
  {
   "cell_type": "markdown",
   "id": "6f3e9366-4700-4366-9ede-e226304c65ca",
   "metadata": {},
   "source": [
    "### 21 Scatter Plot"
   ]
  },
  {
   "cell_type": "code",
   "execution_count": 160,
   "id": "58087030-feba-4004-ad1d-4441ecf92271",
   "metadata": {},
   "outputs": [],
   "source": [
    "\n",
    "numerical_y = [\n",
    "    \"sales\", \"revenue\", \"profit\", \"amount\", \"budget\", \"expenses\", \"score\", \"rating\",\n",
    "    \"performance\", \"satisfaction\", \"accuracy\", \"growth\", \"downloads\", \"clicks\", \"views\",\n",
    "    \"loss\", \"usage\", \"income\", \"conversion rate\", \"completion rate\", \"temperature\",\n",
    "    \"pollution\", \"delay\", \"speed\", \"balance\", \"cases\", \"incidents\", \"response time\"\n",
    "]\n",
    "\n",
    "\n",
    "scatter_templates = [\n",
    "    \"Show scatter plot of {x} vs {y}\",\n",
    "    \"Draw scatter chart with {x} and {y}\",\n",
    "    \"Scatter plot of {y} against {x}\",\n",
    "    \"Visualize {x} versus {y} in scatter\",\n",
    "    \"Make a scatter graph comparing {x} and {y}\",\n",
    "    \"Chart {y} vs {x} as a scatter plot\",\n",
    "    \"Plot {x} on x-axis and {y} on y-axis in scatter\",\n",
    "    \"I want a scatter plot of {x} and {y}\",\n",
    "    \"Graph showing scatter between {x} and {y}\",\n",
    "    \"Scatter diagram for {x} and {y}\"\n",
    "]\n",
    "\n",
    "samples = []\n",
    "\n",
    "for template in scatter_templates:\n",
    "    for _ in range(samples_per_template):\n",
    "        x, y = random.sample(numerical_y, 2)  # different x and y\n",
    "\n",
    "        input_text = template.format(x=x, y=y)\n",
    "\n",
    "        if random.random() < filter_probability:\n",
    "            filter_text = random.choice(filter_phrases)\n",
    "            input_text = f\"{input_text} {filter_text}\"\n",
    "            target_text = f\"chart: scatter, x: {x}, y: {y}, filter: {filter_text}\"\n",
    "        else:\n",
    "            target_text = f\"chart: scatter, x: {x}, y: {y}\"\n",
    "\n",
    "        if random.random() < noise_probability:\n",
    "            input_text = introduce_noise(input_text)\n",
    "\n",
    "        samples.append({\"input\": input_text, \"target\": target_text})\n",
    "\n",
    "\n",
    "df_scatter = pd.DataFrame(samples)\n",
    "\n"
   ]
  },
  {
   "cell_type": "code",
   "execution_count": 161,
   "id": "aba0ad2f-6490-48c9-975d-b2a4bc4e40cb",
   "metadata": {},
   "outputs": [],
   "source": [
    "df = pd.concat([df, df_scatter], ignore_index=True)"
   ]
  },
  {
   "cell_type": "code",
   "execution_count": 162,
   "id": "4dc14798-022e-47e9-b8ce-f4140bbf6656",
   "metadata": {},
   "outputs": [
    {
     "data": {
      "text/plain": [
       "(40000, 2)"
      ]
     },
     "execution_count": 162,
     "metadata": {},
     "output_type": "execute_result"
    }
   ],
   "source": [
    "df.shape"
   ]
  },
  {
   "cell_type": "markdown",
   "id": "398df1cd-b2f6-4473-9f8e-5606847e86f5",
   "metadata": {},
   "source": [
    "### 22 Bubble Chart"
   ]
  },
  {
   "cell_type": "code",
   "execution_count": 163,
   "id": "a3d7cdbe-5a9d-48df-94be-db2a634c1ea4",
   "metadata": {},
   "outputs": [],
   "source": [
    "\n",
    "numerical_cols = [\n",
    "    \"sales\", \"revenue\", \"profit\", \"amount\", \"budget\", \"expenses\", \"score\", \"rating\",\n",
    "    \"performance\", \"satisfaction\", \"accuracy\", \"growth\", \"downloads\", \"clicks\", \"views\",\n",
    "    \"loss\", \"usage\", \"income\", \"conversion rate\", \"completion rate\", \"temperature\",\n",
    "    \"pollution\", \"delay\", \"speed\", \"balance\", \"cases\", \"incidents\", \"response time\"\n",
    "]\n",
    "\n",
    "\n",
    "bubble_templates = [\n",
    "    \"Show bubble chart of {x} vs {y}, size by {size}\",\n",
    "    \"Bubble chart with {x} and {y}, bubble size from {size}\",\n",
    "    \"Draw a bubble plot for {x} against {y}, scaled by {size}\",\n",
    "    \"Visualize {x} and {y} with bubble sizes representing {size}\",\n",
    "    \"Make chart for {x} vs {y}, bubble size is {size}\",\n",
    "    \"Plot bubble chart: {x}, {y}, size = {size}\",\n",
    "    \"Graph with {x} on x-axis, {y} on y-axis, and {size} as size\",\n",
    "    \"Compare {x} to {y} with {size} as bubble size\",\n",
    "    \"Bubble plot where {size} shows size and {x} vs {y}\",\n",
    "    \"Bubble graph for {x} against {y} with size by {size}\"\n",
    "]\n",
    "\n",
    "samples = []\n",
    "\n",
    "for template in bubble_templates:\n",
    "    for _ in range(samples_per_template):\n",
    "        x, y, size = random.sample(numerical_cols, 3)  # All different\n",
    "\n",
    "        input_text = template.format(x=x, y=y, size=size)\n",
    "\n",
    "        if random.random() < filter_probability:\n",
    "            filter_text = random.choice(filter_phrases)\n",
    "            input_text = f\"{input_text} {filter_text}\"\n",
    "            target_text = f\"chart: bubble, x: {x}, y: {y}, size: {size}, filter: {filter_text}\"\n",
    "        else:\n",
    "            target_text = f\"chart: bubble, x: {x}, y: {y}, size: {size}\"\n",
    "\n",
    "        if random.random() < noise_probability:\n",
    "            input_text = introduce_noise(input_text)\n",
    "            \n",
    "        samples.append({\"input\": input_text, \"target\": target_text})\n",
    "\n",
    "\n",
    "df_bubble = pd.DataFrame(samples)\n"
   ]
  },
  {
   "cell_type": "code",
   "execution_count": 164,
   "id": "5476bb0b-8725-47c5-a3bd-668ec81f9b23",
   "metadata": {},
   "outputs": [],
   "source": [
    "df = pd.concat([df, df_bubble], ignore_index=True)"
   ]
  },
  {
   "cell_type": "code",
   "execution_count": 165,
   "id": "6cfeb3f7-ae30-4a26-862d-3f3d8bc5d71d",
   "metadata": {},
   "outputs": [
    {
     "data": {
      "text/plain": [
       "(41000, 2)"
      ]
     },
     "execution_count": 165,
     "metadata": {},
     "output_type": "execute_result"
    }
   ],
   "source": [
    "df.shape"
   ]
  },
  {
   "cell_type": "markdown",
   "id": "bce0d828-8e54-46b9-921a-38e02fbc0d24",
   "metadata": {},
   "source": [
    "### 23 Correlation Heatmap"
   ]
  },
  {
   "cell_type": "code",
   "execution_count": 166,
   "id": "09e286b8-dcd1-4468-a727-c2b5de4fd33a",
   "metadata": {},
   "outputs": [],
   "source": [
    "\n",
    "heatmap_templates = [\n",
    "    \"Show a correlation heatmap\",\n",
    "    \"Plot a heatmap of variable relationships\",\n",
    "    \"Visualize relationships among variables in heatmap\",\n",
    "    \"Generate heatmap of correlations in data\",\n",
    "    \"Display correlation matrix in heatmap form\",\n",
    "    \"Correlation heatmap of numerical features\",\n",
    "    \"Matrix chart showing variable correlations\",\n",
    "    \"Show correlation between all numeric fields\",\n",
    "    \"Give a heatmap of all variable interdependence\",\n",
    "    \"Create a variable relationship matrix\",\n",
    "    \"Display data relationships as a heatmap\",\n",
    "    \"Show variable correlation using heatmap chart\",\n",
    "    \"Make correlation heatmap\",\n",
    "    \"Chart to visualize correlation between all features\",\n",
    "    \"Draw correlation map using heatmap\"\n",
    "]\n",
    "\n",
    "samples = []\n",
    "\n",
    "\n",
    "for template in heatmap_templates:\n",
    "    for _ in range(samples_per_template):\n",
    "        input_text = template\n",
    "\n",
    "        if random.random() < filter_probability:\n",
    "            filter_text = random.choice(filter_phrases)\n",
    "            input_text = f\"{input_text} {filter_text}\"\n",
    "            target_text = f\"chart: correlation_heatmap, filter: {filter_text}\"\n",
    "        else:\n",
    "            target_text = \"chart: correlation_heatmap\"\n",
    "\n",
    "        if random.random() < noise_probability:\n",
    "            input_text = introduce_noise(input_text)\n",
    "\n",
    "        samples.append({\"input\": input_text, \"target\": target_text})\n",
    "\n",
    "\n",
    "df_heatmap = pd.DataFrame(samples)\n"
   ]
  },
  {
   "cell_type": "code",
   "execution_count": 167,
   "id": "643387d0-4f56-4e05-9237-513ff5677bbe",
   "metadata": {},
   "outputs": [],
   "source": [
    "df = pd.concat([df, df_heatmap], ignore_index=True)"
   ]
  },
  {
   "cell_type": "code",
   "execution_count": 168,
   "id": "48eb497e-c9e3-4e17-8b17-b28e687dc7d4",
   "metadata": {},
   "outputs": [
    {
     "data": {
      "text/plain": [
       "(42500, 2)"
      ]
     },
     "execution_count": 168,
     "metadata": {},
     "output_type": "execute_result"
    }
   ],
   "source": [
    "df.shape"
   ]
  },
  {
   "cell_type": "markdown",
   "id": "7021e3e1-9034-4ebd-963d-dd545732c150",
   "metadata": {},
   "source": [
    "### 24 Geo Scatter Map"
   ]
  },
  {
   "cell_type": "code",
   "execution_count": 169,
   "id": "3564b96b-3c13-43b4-9500-fc2179933aeb",
   "metadata": {},
   "outputs": [],
   "source": [
    "\n",
    "geo_x_options = [\n",
    "    \"country\", \"state\", \"region\", \"city\", \"zone\", \"district\", \"province\", \"continent\", \"area\"\n",
    "]\n",
    "\n",
    "geo_y_options = [\n",
    "    \"sales\", \"revenue\", \"cases\", \"amount\", \"budget\", \"views\", \"clicks\", \"population\",\n",
    "    \"alerts\", \"downloads\", \"losses\", \"expenses\", \"income\", \"frequency\"\n",
    "]\n",
    "\n",
    "geo_templates = [\n",
    "    \"Show geo scatter map of {y} by {x}\",\n",
    "    \"Map showing {y} across {x}\",\n",
    "    \"Plot {y} for each {x} on map\",\n",
    "    \"Geo scatter: {y} vs {x}\",\n",
    "    \"Scatter map visualizing {y} over {x}\",\n",
    "    \"Visualize map of {x} with value {y}\",\n",
    "    \"Display {y} geographically by {x}\",\n",
    "    \"Geographic map of {x} showing {y}\",\n",
    "    \"Plot {y} distribution across {x} on map\",\n",
    "    \"Create map view of {y} by {x}\",\n",
    "    \"Location map for {y} by {x}\",\n",
    "    \"Map: {x} with bubble size as {y}\",\n",
    "    \"Geo scatter map representing {y} by {x}\",\n",
    "    \"World map showing {y} by {x}\",\n",
    "    \"Scatter on map showing {x} and {y}\"\n",
    "]\n",
    "\n",
    "\n",
    "samples = []\n",
    "\n",
    "\n",
    "\n",
    "for template in geo_templates:\n",
    "    for _ in range(samples_per_template):\n",
    "        x = random.choice(geo_x_options)\n",
    "        y = random.choice(geo_y_options)\n",
    "\n",
    "        input_text = template.format(x=x, y=y)\n",
    "\n",
    "        if random.random() < filter_probability:\n",
    "            filter_text = random.choice(filter_phrases)\n",
    "            input_text = f\"{input_text} {filter_text}\"\n",
    "            target_text = f\"chart: geo_scatter, x: {x}, y: {y}, filter: {filter_text}\"\n",
    "        else:\n",
    "            target_text = f\"chart: geo_scatter, x: {x}, y: {y}\"\n",
    "\n",
    "        if random.random() < noise_probability:\n",
    "            input_text = introduce_noise(input_text)\n",
    "\n",
    "        samples.append({\"input\": input_text, \"target\": target_text})\n",
    "\n",
    "\n",
    "df_geo = pd.DataFrame(samples)\n",
    "\n"
   ]
  },
  {
   "cell_type": "code",
   "execution_count": 170,
   "id": "1d3ff7c1-ed6b-4dbe-91f9-9898fc4a7099",
   "metadata": {},
   "outputs": [],
   "source": [
    "df = pd.concat([df, df_geo], ignore_index=True)"
   ]
  },
  {
   "cell_type": "code",
   "execution_count": 171,
   "id": "bec1e75d-df58-47e0-a115-40eaee5d22ea",
   "metadata": {},
   "outputs": [
    {
     "data": {
      "text/plain": [
       "(44000, 2)"
      ]
     },
     "execution_count": 171,
     "metadata": {},
     "output_type": "execute_result"
    }
   ],
   "source": [
    "df.shape"
   ]
  },
  {
   "cell_type": "markdown",
   "id": "acc5a35d-b38b-41dc-9f96-bb42a69928b2",
   "metadata": {},
   "source": [
    "### 25 Choropleth Map"
   ]
  },
  {
   "cell_type": "code",
   "execution_count": 172,
   "id": "60744e5c-fc56-486c-a42e-06344a421e70",
   "metadata": {},
   "outputs": [],
   "source": [
    "\n",
    "choropleth_x_options = [\n",
    "    \"country\", \"state\", \"region\", \"district\", \"zone\", \"province\", \"area\", \"continent\"\n",
    "]\n",
    "\n",
    "choropleth_y_options = [\n",
    "    \"population\", \"sales\", \"revenue\", \"cases\", \"budget\", \"income\", \"amount\", \"losses\",\n",
    "    \"downloads\", \"views\", \"frequency\", \"turnover\", \"alerts\", \"expenses\"\n",
    "]\n",
    "\n",
    "choropleth_templates = [\n",
    "    \"Show choropleth map of {y} by {x}\",\n",
    "    \"Map showing {y} across {x} (choropleth)\",\n",
    "    \"Choropleth of {x} colored by {y}\",\n",
    "    \"Display choropleth showing {y} for each {x}\",\n",
    "    \"Map of {x} where color represents {y}\",\n",
    "    \"Visualize {y} in {x} using choropleth\",\n",
    "    \"Color regions of {x} based on {y}\",\n",
    "    \"Plot choropleth for {x} and {y}\",\n",
    "    \"Heatmap on map of {x} using {y}\",\n",
    "    \"Map: {x} shaded by {y}\",\n",
    "    \"Region-wise map of {y} by {x}\",\n",
    "    \"Show region color map for {x} based on {y}\",\n",
    "    \"Map displaying {y} intensity over {x}\",\n",
    "    \"Draw a choropleth with {x} as regions and {y} as values\",\n",
    "    \"Create choropleth of {x} with values from {y}\"\n",
    "]\n",
    "\n",
    "\n",
    "samples = []\n",
    "\n",
    "for template in choropleth_templates:\n",
    "    for _ in range(samples_per_template):\n",
    "        x = random.choice(choropleth_x_options)\n",
    "        y = random.choice(choropleth_y_options)\n",
    "        input_text = template.format(x=x, y=y)\n",
    "\n",
    "        if random.random() < filter_probability:\n",
    "            filter_text = random.choice(filter_phrases)\n",
    "            input_text = f\"{input_text} {filter_text}\"\n",
    "            target_text = f\"chart: choropleth, x: {x}, y: {y}, filter: {filter_text}\"\n",
    "        else:\n",
    "            target_text = f\"chart: choropleth, x: {x}, y: {y}\"\n",
    "\n",
    "        if random.random() < noise_probability:\n",
    "            input_text = introduce_noise(input_text)\n",
    "\n",
    "        samples.append({\"input\": input_text, \"target\": target_text})\n",
    "\n",
    "\n",
    "df_choropleth = pd.DataFrame(samples)\n"
   ]
  },
  {
   "cell_type": "code",
   "execution_count": 173,
   "id": "977d0147-ad98-4ee6-82a5-a1c2784edece",
   "metadata": {},
   "outputs": [],
   "source": [
    "df = pd.concat([df, df_choropleth], ignore_index=True)"
   ]
  },
  {
   "cell_type": "code",
   "execution_count": 174,
   "id": "d698841c-ba97-45fe-918e-55c3869f25fb",
   "metadata": {},
   "outputs": [
    {
     "data": {
      "text/plain": [
       "(45500, 2)"
      ]
     },
     "execution_count": 174,
     "metadata": {},
     "output_type": "execute_result"
    }
   ],
   "source": [
    "df.shape"
   ]
  },
  {
   "cell_type": "markdown",
   "id": "ca6e1316-7caa-4598-9dd6-607723899144",
   "metadata": {},
   "source": [
    "##   aggregative functions"
   ]
  },
  {
   "cell_type": "markdown",
   "id": "cacc1ea1-226e-4d4e-8f11-10895a8cc7c2",
   "metadata": {},
   "source": [
    "### bar chart"
   ]
  },
  {
   "cell_type": "code",
   "execution_count": 175,
   "id": "c1d147c7-2673-4c8a-bf2b-9a4f8cdff19e",
   "metadata": {},
   "outputs": [],
   "source": [
    "\n",
    "aggregation_options = [\"sum\", \"total\", \"average\", \"mean\", \"maximum\", \"minimum\", \"count\"]\n",
    "\n",
    "bar_templates_with_agg = [\n",
    "    \"Show bar chart of {agg} {y} by {x}\",\n",
    "    \"Plot {agg} of {y} grouped by {x}\",\n",
    "    \"Bar graph of {x} vs {agg} {y}\",\n",
    "    \"Visualize {agg} {y} across {x}\",\n",
    "    \"Bar chart showing {agg} {y} for each {x}\",\n",
    "    \"Display bar of {y} by {x} with {agg}\",\n",
    "    \"Bar chart grouped by {x} showing {agg} {y}\"\n",
    "]\n",
    "\n",
    "\n",
    "samples = []\n",
    "samples_per_template = 100  \n",
    "\n",
    "for template in bar_templates_with_agg:\n",
    "    for _ in range(samples_per_template):\n",
    "        x = random.choice(x_options)\n",
    "        y = random.choice(y_options)\n",
    "        agg = random.choice(aggregation_options)\n",
    "        input_text = template.format(x=x, y=y, agg=agg)\n",
    "\n",
    "        if random.random() < 0.4:\n",
    "            filter_text = random.choice(filter_phrases)\n",
    "            input_text = f\"{input_text} {filter_text}\"\n",
    "            target_text = f\"chart: bar, x: {x}, y: {y}, agg: {agg}, filter: {filter_text}\"\n",
    "        else:\n",
    "            target_text = f\"chart: bar, x: {x}, y: {y}, agg: {agg}\"\n",
    "\n",
    "        if random.random() < noise_probability:\n",
    "            input_text = introduce_noise(input_text)\n",
    "\n",
    "        samples.append({\"input\": input_text, \"target\": target_text})\n",
    "\n",
    "df_ag_bar = pd.DataFrame(samples)\n",
    "\n"
   ]
  },
  {
   "cell_type": "code",
   "execution_count": 176,
   "id": "525d0251-ed3e-409e-8358-d5cf1bd0b802",
   "metadata": {},
   "outputs": [],
   "source": [
    "df = pd.concat([df, df_ag_bar], ignore_index=True)"
   ]
  },
  {
   "cell_type": "code",
   "execution_count": 177,
   "id": "68aafa04-6773-4280-9249-8a541f33c6c5",
   "metadata": {},
   "outputs": [
    {
     "data": {
      "text/plain": [
       "(46200, 2)"
      ]
     },
     "execution_count": 177,
     "metadata": {},
     "output_type": "execute_result"
    }
   ],
   "source": [
    "df.shape"
   ]
  },
  {
   "cell_type": "markdown",
   "id": "f48b0d16-37b6-4133-a563-a7611d8b8105",
   "metadata": {},
   "source": [
    "### grouped bar chart"
   ]
  },
  {
   "cell_type": "code",
   "execution_count": 178,
   "id": "3f30e024-a012-48a7-82cb-0ce7cc65921a",
   "metadata": {},
   "outputs": [],
   "source": [
    "grouped_bar_templates = [\n",
    "    \"Show grouped bar chart of {agg} {y} by {x} grouped by {group}\",\n",
    "    \"Compare {agg} of {y} for each {x} and group by {group}\",\n",
    "    \"Grouped bar chart: {agg} {y} over {x}, grouped by {group}\",\n",
    "    \"Bar chart comparing {group} with {x} on {agg} {y}\",\n",
    "    \"Plot {agg} {y} across {x} and separate by {group}\",\n",
    "]\n",
    "group_options = [\"region\", \"department\", \"gender\", \"platform\", \"campaign\", \"status\", \"program\"]\n",
    "grouped_samples = []\n",
    "\n",
    "for template in grouped_bar_templates:\n",
    "    for _ in range(100):  # total ~500\n",
    "        x = random.choice(x_options)\n",
    "        y = random.choice(y_options)\n",
    "        group = random.choice(group_options)\n",
    "        agg = random.choice(aggregation_options)\n",
    "        input_text = template.format(x=x, y=y, group=group, agg=agg)\n",
    "\n",
    "        if random.random() < 0.4:\n",
    "            filter_text = random.choice(filter_phrases)\n",
    "            input_text = f\"{input_text} {filter_text}\"\n",
    "            target = f\"chart: grouped_bar, x: {x}, y: {y}, group: {group}, agg: {agg}, filter: {filter_text}\"\n",
    "        else:\n",
    "            target = f\"chart: grouped_bar, x: {x}, y: {y}, group: {group}, agg: {agg}\"\n",
    "\n",
    "        if random.random() < noise_probability:\n",
    "            input_text = introduce_noise(input_text)\n",
    "            \n",
    "        grouped_samples.append({\"input\": input_text, \"target\": target})\n",
    "\n",
    "      \n"
   ]
  },
  {
   "cell_type": "markdown",
   "id": "e63d15e3-68cc-4bae-8350-23ac233a2e10",
   "metadata": {},
   "source": [
    "### stacked bar"
   ]
  },
  {
   "cell_type": "code",
   "execution_count": 179,
   "id": "0f2a6687-8941-44f7-b239-daa43347bc3c",
   "metadata": {},
   "outputs": [],
   "source": [
    "stacked_bar_templates = [\n",
    "    \"Show stacked bar chart for {agg} {y} by {x} stacked by {stack}\",\n",
    "    \"Create a stacked bar with {x} and {agg} {y}, split by {stack}\",\n",
    "    \"Stacked bar showing {agg} {y} across {x} and {stack}\",\n",
    "    \"Display stacked bars of {agg} {y} per {x}, grouped by {stack}\",\n",
    "    \"Plot {agg} of {y} by {x} stacked with {stack}\"\n",
    "]\n",
    "stack_options = group_options  # Same list for stack/group\n",
    "stacked_samples = []\n",
    "\n",
    "for template in stacked_bar_templates:\n",
    "    for _ in range(100):  # total ~500\n",
    "        x = random.choice(x_options)\n",
    "        y = random.choice(y_options)\n",
    "        stack = random.choice(stack_options)\n",
    "        agg = random.choice(aggregation_options)\n",
    "        input_text = template.format(x=x, y=y, stack=stack, agg=agg)\n",
    "\n",
    "        if random.random() < 0.4:\n",
    "            filter_text = random.choice(filter_phrases)\n",
    "            input_text = f\"{input_text} {filter_text}\"\n",
    "            target = f\"chart: stacked_bar, x: {x}, y: {y}, stack: {stack}, agg: {agg}, filter: {filter_text}\"\n",
    "        else:\n",
    "            target = f\"chart: stacked_bar, x: {x}, y: {y}, stack: {stack}, agg: {agg}\"\n",
    "\n",
    "        if random.random() < noise_probability:\n",
    "            input_text = introduce_noise(input_text)\n",
    "            \n",
    "        stacked_samples.append({\"input\": input_text, \"target\": target})\n"
   ]
  },
  {
   "cell_type": "markdown",
   "id": "6e8ffa4e-37ab-489f-832c-5dae8026d20b",
   "metadata": {},
   "source": [
    "### Horizontal bar chart"
   ]
  },
  {
   "cell_type": "code",
   "execution_count": 180,
   "id": "4a19454e-1db0-48b4-a51f-eeca3af3c38f",
   "metadata": {},
   "outputs": [],
   "source": [
    "horizontal_bar_templates = [\n",
    "    \"Show horizontal bar chart for {agg} {y} by {x}\",\n",
    "    \"Horizontal bar of {agg} {y} grouped over {x}\",\n",
    "    \"Plot {agg} of {y} using horizontal bars by {x}\",\n",
    "    \"Display horizontal chart of {y} (aggregated as {agg}) by {x}\",\n",
    "    \"Horizontal bar: compare {x} with {agg} of {y}\"\n",
    "]\n",
    "horizontal_samples = []\n",
    "\n",
    "for template in horizontal_bar_templates:\n",
    "    for _ in range(100):  \n",
    "        x = random.choice(x_options)\n",
    "        y = random.choice(y_options)\n",
    "        agg = random.choice(aggregation_options)\n",
    "        input_text = template.format(x=x, y=y, agg=agg)\n",
    "\n",
    "        if random.random() < 0.4:\n",
    "            filter_text = random.choice(filter_phrases)\n",
    "            input_text = f\"{input_text} {filter_text}\"\n",
    "            target = f\"chart: horizontal_bar, x: {x}, y: {y}, agg: {agg}, filter: {filter_text}\"\n",
    "        else:\n",
    "            target = f\"chart: horizontal_bar, x: {x}, y: {y}, agg: {agg}\"\n",
    "\n",
    "        if random.random() < noise_probability:\n",
    "            input_text = introduce_noise(input_text)\n",
    "            \n",
    "        horizontal_samples.append({\"input\": input_text, \"target\": target})\n"
   ]
  },
  {
   "cell_type": "code",
   "execution_count": 181,
   "id": "ac237006-211e-44a6-be3e-611641e9b30e",
   "metadata": {},
   "outputs": [],
   "source": [
    "all_samples = grouped_samples + stacked_samples + horizontal_samples\n",
    "\n",
    "df_more_bars = pd.DataFrame(all_samples)\n"
   ]
  },
  {
   "cell_type": "code",
   "execution_count": 182,
   "id": "9d37bf38-89bb-4588-8a48-15c2fbf6efb1",
   "metadata": {},
   "outputs": [],
   "source": [
    "df = pd.concat([df, df_more_bars], ignore_index=True)"
   ]
  },
  {
   "cell_type": "code",
   "execution_count": 183,
   "id": "6b3eee2d-4449-4ab8-8345-4ab22e36ce54",
   "metadata": {},
   "outputs": [
    {
     "data": {
      "text/plain": [
       "(47700, 2)"
      ]
     },
     "execution_count": 183,
     "metadata": {},
     "output_type": "execute_result"
    }
   ],
   "source": [
    "df.shape"
   ]
  },
  {
   "cell_type": "markdown",
   "id": "9efa124b-1e1b-4980-97ec-1de35986f695",
   "metadata": {},
   "source": [
    "### Line & Area Charts\n",
    "\n",
    "Line Chart\n",
    "\n",
    "Multi-Line Chart\n",
    "\n",
    "Step Line Chart\n",
    "\n",
    "Area Chart\n",
    "\n",
    "Stacked Area Chart"
   ]
  },
  {
   "cell_type": "code",
   "execution_count": 184,
   "id": "402d132a-e56e-4fc9-849d-a4de9de4eb31",
   "metadata": {},
   "outputs": [],
   "source": [
    "line_templates = [\n",
    "    \"Show line chart of {agg} {y} over {x}\",\n",
    "    \"Line graph for {agg} {y} by {x}\",\n",
    "    \"Plot {agg} {y} along {x} using lines\",\n",
    "    \"Draw a line chart showing {x} vs {agg} {y}\",\n",
    "    \"Visualize {agg} {y} over time by {x}\",\n",
    "]\n",
    "\n",
    "line_samples = []\n",
    "\n",
    "for template in line_templates:\n",
    "    for _ in range(100):\n",
    "        x = random.choice(x_options)\n",
    "        y = random.choice(y_options)\n",
    "        agg = random.choice(aggregation_options)\n",
    "        input_text = template.format(x=x, y=y, agg=agg)\n",
    "\n",
    "        if random.random() < 0.4:\n",
    "            filter_text = random.choice(filter_phrases)\n",
    "            input_text = f\"{input_text} {filter_text}\"\n",
    "            target = f\"chart: line, x: {x}, y: {y}, agg: {agg}, filter: {filter_text}\"\n",
    "        else:\n",
    "            target = f\"chart: line, x: {x}, y: {y}, agg: {agg}\"\n",
    "\n",
    "        if random.random() < noise_probability:\n",
    "            input_text = introduce_noise(input_text)\n",
    "\n",
    "        line_samples.append({\"input\": input_text, \"target\": target})\n"
   ]
  },
  {
   "cell_type": "code",
   "execution_count": 185,
   "id": "55ddaf5f-9d0c-4cf2-8b0f-b901e5ff0548",
   "metadata": {},
   "outputs": [],
   "source": [
    "multi_line_templates = [\n",
    "    \"Multi-line chart of {agg} {y} by {x}, grouped by {group}\",\n",
    "    \"Show lines for each {group} with {agg} {y} over {x}\",\n",
    "    \"Plot multiple lines of {y} for each {group} along {x}\",\n",
    "    \"Compare {agg} {y} by {group} across {x}\",\n",
    "    \"Grouped line chart: {x}, {y} and {group}\"\n",
    "]\n",
    "\n",
    "multi_line_samples = []\n",
    "\n",
    "for template in multi_line_templates:\n",
    "    for _ in range(100):\n",
    "        x = random.choice(x_options)\n",
    "        y = random.choice(y_options)\n",
    "        group = random.choice(group_options)\n",
    "        agg = random.choice(aggregation_options)\n",
    "\n",
    "        input_text = template.format(x=x, y=y, group=group, agg=agg)\n",
    "\n",
    "        if random.random() < 0.4:\n",
    "            filter_text = random.choice(filter_phrases)\n",
    "            input_text = f\"{input_text} {filter_text}\"\n",
    "            target = f\"chart: multi_line, x: {x}, y: {y}, group: {group}, agg: {agg}, filter: {filter_text}\"\n",
    "        else:\n",
    "            target = f\"chart: multi_line, x: {x}, y: {y}, group: {group}, agg: {agg}\"\n",
    "\n",
    "        if random.random() < noise_probability:\n",
    "            input_text = introduce_noise(input_text)\n",
    "\n",
    "        multi_line_samples.append({\"input\": input_text, \"target\": target})\n"
   ]
  },
  {
   "cell_type": "code",
   "execution_count": 186,
   "id": "e1671098-ce77-4827-9927-88206d553283",
   "metadata": {},
   "outputs": [],
   "source": [
    "step_templates = [\n",
    "    \"Draw step line chart for {agg} {y} over {x}\",\n",
    "    \"Step plot for {agg} {y} vs {x}\",\n",
    "    \"Create a step chart showing {x} and {agg} {y}\",\n",
    "    \"Step line showing change in {agg} {y} across {x}\",\n",
    "    \"Plot {agg} of {y} by {x} with steps\"\n",
    "]\n",
    "\n",
    "step_samples = []\n",
    "\n",
    "for template in step_templates:\n",
    "    for _ in range(100):\n",
    "        x = random.choice(x_options)\n",
    "        y = random.choice(y_options)\n",
    "        agg = random.choice(aggregation_options)\n",
    "\n",
    "        input_text = template.format(x=x, y=y, agg=agg)\n",
    "\n",
    "        if random.random() < 0.4:\n",
    "            filter_text = random.choice(filter_phrases)\n",
    "            input_text = f\"{input_text} {filter_text}\"\n",
    "            target = f\"chart: step_line, x: {x}, y: {y}, agg: {agg}, filter: {filter_text}\"\n",
    "        else:\n",
    "            target = f\"chart: step_line, x: {x}, y: {y}, agg: {agg}\"\n",
    "\n",
    "        if random.random() < noise_probability:\n",
    "            input_text = introduce_noise(input_text)\n",
    "\n",
    "        step_samples.append({\"input\": input_text, \"target\": target})\n"
   ]
  },
  {
   "cell_type": "code",
   "execution_count": 187,
   "id": "950f6b1b-590f-4a29-a5b0-1fab35673669",
   "metadata": {},
   "outputs": [],
   "source": [
    "area_templates = [\n",
    "    \"Area chart of {agg} {y} by {x}\",\n",
    "    \"Show area graph for {agg} {y} over {x}\",\n",
    "    \"Visualize {agg} of {y} using area chart along {x}\",\n",
    "    \"Create area chart with {x} and {agg} {y}\",\n",
    "    \"Draw {x} vs {agg} {y} in area format\"\n",
    "]\n",
    "\n",
    "area_samples = []\n",
    "\n",
    "for template in area_templates:\n",
    "    for _ in range(100):\n",
    "        x = random.choice(x_options)\n",
    "        y = random.choice(y_options)\n",
    "        agg = random.choice(aggregation_options)\n",
    "\n",
    "        input_text = template.format(x=x, y=y, agg=agg)\n",
    "\n",
    "        if random.random() < 0.4:\n",
    "            filter_text = random.choice(filter_phrases)\n",
    "            input_text = f\"{input_text} {filter_text}\"\n",
    "            target = f\"chart: area, x: {x}, y: {y}, agg: {agg}, filter: {filter_text}\"\n",
    "        else:\n",
    "            target = f\"chart: area, x: {x}, y: {y}, agg: {agg}\"\n",
    "\n",
    "        if random.random() < noise_probability:\n",
    "            input_text = introduce_noise(input_text)\n",
    "\n",
    "        area_samples.append({\"input\": input_text, \"target\": target})\n"
   ]
  },
  {
   "cell_type": "code",
   "execution_count": 188,
   "id": "516080c7-9796-421a-9551-caa365c691d5",
   "metadata": {},
   "outputs": [],
   "source": [
    "stacked_area_templates = [\n",
    "    \"Stacked area chart for {agg} {y} by {x} and {group}\",\n",
    "    \"Create a stacked area graph using {x}, {agg} {y}, and stack by {group}\",\n",
    "    \"Show stacked areas of {y} over {x}, split by {group}\",\n",
    "    \"Area chart with stacking by {group} showing {agg} {y} per {x}\",\n",
    "    \"Plot {agg} of {y} across {x} stacked by {group}\"\n",
    "]\n",
    "\n",
    "stacked_area_samples = []\n",
    "\n",
    "for template in stacked_area_templates:\n",
    "    for _ in range(100):\n",
    "        x = random.choice(x_options)\n",
    "        y = random.choice(y_options)\n",
    "        group = random.choice(group_options)\n",
    "        agg = random.choice(aggregation_options)\n",
    "\n",
    "        input_text = template.format(x=x, y=y, group=group, agg=agg)\n",
    "\n",
    "        if random.random() < 0.4:\n",
    "            filter_text = random.choice(filter_phrases)\n",
    "            input_text = f\"{input_text} {filter_text}\"\n",
    "            target = f\"chart: stacked_area, x: {x}, y: {y}, group: {group}, agg: {agg}, filter: {filter_text}\"\n",
    "        else:\n",
    "            target = f\"chart: stacked_area, x: {x}, y: {y}, group: {group}, agg: {agg}\"\n",
    "\n",
    "        if random.random() < noise_probability:\n",
    "            input_text = introduce_noise(input_text)\n",
    "\n",
    "        stacked_area_samples.append({\"input\": input_text, \"target\": target})\n"
   ]
  },
  {
   "cell_type": "code",
   "execution_count": 189,
   "id": "2d53e3b6-c501-496b-aeb7-bf3d0acf85fc",
   "metadata": {},
   "outputs": [],
   "source": [
    "all_line_area_samples = (\n",
    "    line_samples +\n",
    "    multi_line_samples +\n",
    "    step_samples +\n",
    "    area_samples +\n",
    "    stacked_area_samples\n",
    ")\n",
    "\n",
    "df_line_area = pd.DataFrame(all_line_area_samples)\n"
   ]
  },
  {
   "cell_type": "code",
   "execution_count": 190,
   "id": "4864af68-4ff8-49df-b22a-f4f122765ebd",
   "metadata": {},
   "outputs": [],
   "source": [
    "df = pd.concat([df, df_line_area], ignore_index=True)"
   ]
  },
  {
   "cell_type": "code",
   "execution_count": 191,
   "id": "05b87584-3894-4c33-9f1d-5ab0b379f962",
   "metadata": {},
   "outputs": [
    {
     "data": {
      "text/plain": [
       "(50200, 2)"
      ]
     },
     "execution_count": 191,
     "metadata": {},
     "output_type": "execute_result"
    }
   ],
   "source": [
    "df.shape"
   ]
  },
  {
   "cell_type": "markdown",
   "id": "f35a8994-e5b2-4fcd-adee-70e7539818d0",
   "metadata": {},
   "source": [
    "### Business & KPI Charts\n",
    "\n",
    "Treemap\n",
    "\n",
    "Waterfall Chart\n",
    "\n",
    "Funnel Chart\n",
    "\n",
    "Gauge Chart\n",
    "\n",
    "KPI Card / Metric\n",
    "\n",
    "Combo Chart (Bar + Line on Dual Axis)"
   ]
  },
  {
   "cell_type": "code",
   "execution_count": 192,
   "id": "1277cb24-98b2-4fdb-a7ac-8075573b9cdc",
   "metadata": {},
   "outputs": [],
   "source": [
    "\n",
    "business_charts = [\"treemap\", \"waterfall\", \"funnel\", \"gauge\", \"kpi\", \"combo\"]\n",
    "\n",
    "agg_options = [\"sum\", \"average\", \"mean\", \"max\", \"min\", \"count\"]\n",
    "\n",
    "combo_line_options = [\n",
    "    \"growth\", \"conversion\", \"success rate\", \"clicks\"\n",
    "]\n",
    "\n",
    "\n",
    "treemap_templates = [\n",
    "    \"Treemap of {y} by {x}\",\n",
    "    \"Show treemap for {x} grouped by {y}\",\n",
    "    \"Create treemap with {x} and {y}\",\n",
    "]\n",
    "\n",
    "waterfall_templates = [\n",
    "    \"Waterfall chart showing {y} by {x}\",\n",
    "    \"Display a waterfall chart for {x} changes in {y}\",\n",
    "    \"Plot waterfall chart: {x} and {y}\"\n",
    "]\n",
    "\n",
    "funnel_templates = [\n",
    "    \"Funnel chart showing {y} for each {x}\",\n",
    "    \"Create funnel chart of {x} stages with {y}\",\n",
    "    \"Show conversion funnel: {x} with values {y}\"\n",
    "]\n",
    "\n",
    "gauge_templates = [\n",
    "    \"Gauge chart showing {y}\",\n",
    "    \"Visualize {y} as a gauge\",\n",
    "    \"Gauge for tracking {y}\"\n",
    "]\n",
    "\n",
    "kpi_templates = [\n",
    "    \"Show total {y}\",\n",
    "    \"Display KPI card for {y}\",\n",
    "    \"Metric card showing {y}\"\n",
    "]\n",
    "\n",
    "combo_templates = [\n",
    "    \"Combo chart of {y1} and {y2} over {x}\",\n",
    "    \"Bar and line chart: {y1} as bar and {y2} as line grouped by {x}\",\n",
    "    \"Display {y1} and {y2} using combo chart by {x}\"\n",
    "]\n",
    "\n",
    "# Combine all templates with chart name\n",
    "chart_templates = []\n",
    "\n",
    "chart_templates += [(\"treemap\", t) for t in treemap_templates]\n",
    "chart_templates += [(\"waterfall\", t) for t in waterfall_templates]\n",
    "chart_templates += [(\"funnel\", t) for t in funnel_templates]\n",
    "chart_templates += [(\"gauge\", t) for t in gauge_templates]\n",
    "chart_templates += [(\"kpi\", t) for t in kpi_templates]\n",
    "chart_templates += [(\"combo\", t) for t in combo_templates]\n",
    "\n",
    "\n",
    "samples = []\n",
    "\n",
    "for chart, template in chart_templates:\n",
    "    for _ in range(100):  # 100 samples per template\n",
    "        x = random.choice(x_options)\n",
    "        y = random.choice(y_options)\n",
    "        agg = random.choice(agg_options)\n",
    "        if chart == \"gauge\" or chart == \"kpi\":\n",
    "            input_text = template.format(y=y)\n",
    "            target_text = f\"chart: {chart}, y: {y}, agg: {agg}\"\n",
    "        \n",
    "        elif chart == \"combo\":\n",
    "            y1 = random.choice(y_options)\n",
    "            y2 = random.choice(combo_line_options)\n",
    "            input_text = template.format(y1=y1, y2=y2, x=x)\n",
    "            target_text = f\"chart: combo, x: {x}, y1: {y1}, y2: {y2}, agg: {agg}\"\n",
    "        \n",
    "        else:\n",
    "            input_text = template.format(x=x, y=y)\n",
    "            target_text = f\"chart: {chart}, x: {x}, y: {y}, agg: {agg}\"\n",
    "\n",
    "        if random.random() < noise_probability:\n",
    "            input_text = introduce_noise(input_text)\n",
    "        \n",
    "        samples.append({\"input\": input_text, \"target\": target_text})\n",
    "\n",
    "\n",
    "df_ag = pd.DataFrame(samples)\n"
   ]
  },
  {
   "cell_type": "code",
   "execution_count": 193,
   "id": "e99c1151-70e7-43ea-8ed7-440226077a17",
   "metadata": {},
   "outputs": [],
   "source": [
    "df = pd.concat([df, df_ag], ignore_index=True)"
   ]
  },
  {
   "cell_type": "code",
   "execution_count": 194,
   "id": "403c929b-5b46-449e-9ce0-30ab72c3af46",
   "metadata": {},
   "outputs": [
    {
     "data": {
      "text/plain": [
       "(52000, 2)"
      ]
     },
     "execution_count": 194,
     "metadata": {},
     "output_type": "execute_result"
    }
   ],
   "source": [
    "df.shape"
   ]
  },
  {
   "cell_type": "markdown",
   "id": "bdb81ff6-103d-4870-ab1f-88836868a6f6",
   "metadata": {},
   "source": [
    "### Bubble chart"
   ]
  },
  {
   "cell_type": "code",
   "execution_count": 196,
   "id": "66cd8a73-91ed-42d5-a53c-28f2a1392375",
   "metadata": {},
   "outputs": [],
   "source": [
    "\n",
    "x_options = [\"product\", \"region\", \"discount band\", \"category\", \"department\"]\n",
    "y_options = [\"profit\", \"revenue\", \"growth\", \"conversion\"]\n",
    "size_options = [\"sales\", \"clicks\", \"downloads\", \"amount\"]\n",
    "\n",
    "agg_methods = [\"sum\", \"avg\", \"mean\", \"total\"]\n",
    "\n",
    "bubble_templates = [\n",
    "    \"Show a bubble chart of {y} vs {x}, where bubble size is {size} (use {agg})\",\n",
    "    \"Bubble chart: x={x}, y={y}, size={size} aggregated by {agg}\",\n",
    "    \"Plot {y} by {x} with bubble sized on {size} using {agg}\",\n",
    "    \"Display {y} against {x}, bubble size = {agg} of {size}\",\n",
    "    \"I want a bubble chart with {x} and {y}, bubble shows {agg} {size}\"\n",
    "]\n",
    "\n",
    "samples = []\n",
    "for _ in range(100):  \n",
    "    x = random.choice(x_options)\n",
    "    y = random.choice(y_options)\n",
    "    size = random.choice(size_options)\n",
    "    agg = random.choice(agg_methods)\n",
    "    template = random.choice(bubble_templates)\n",
    "    \n",
    "    input_text = template.format(x=x, y=y, size=size, agg=agg)\n",
    "    target_text = f\"chart: bubble, x: {x}, y: {y}, size: {size}, agg: {agg}\"\n",
    "    \n",
    "    samples.append({\"input\": input_text, \"target\": target_text})\n",
    "\n",
    "df_ag_bubble = pd.DataFrame(samples)\n"
   ]
  },
  {
   "cell_type": "code",
   "execution_count": 197,
   "id": "98bb71a8-f420-4c4c-a058-1bdf3fc6898b",
   "metadata": {},
   "outputs": [],
   "source": [
    "df = pd.concat([df, df_ag_bubble], ignore_index=True)"
   ]
  },
  {
   "cell_type": "code",
   "execution_count": 198,
   "id": "67ddcc1c-f346-4959-b556-3ce927923af4",
   "metadata": {},
   "outputs": [
    {
     "data": {
      "text/plain": [
       "(52100, 2)"
      ]
     },
     "execution_count": 198,
     "metadata": {},
     "output_type": "execute_result"
    }
   ],
   "source": [
    "df.shape"
   ]
  },
  {
   "cell_type": "markdown",
   "id": "9394c21c-e778-4aef-b1f9-51a205c16a3f",
   "metadata": {},
   "source": [
    "### maps"
   ]
  },
  {
   "cell_type": "code",
   "execution_count": 199,
   "id": "f9a94c3f-adff-43b0-81ea-a92abd4b333c",
   "metadata": {},
   "outputs": [],
   "source": [
    "\n",
    "locations = [\"country\", \"state\", \"city\", \"region\", \"district\", \"zone\"]\n",
    "metrics = [\"sales\", \"revenue\", \"profit\", \"population\", \"income\", \"cases\", \"clicks\", \"downloads\", \"pollution\"]\n",
    "agg_methods = [\"sum\", \"total\", \"avg\", \"mean\"]\n",
    "\n",
    "geo_templates = [\n",
    "    \"Show Geo Scatter Map with {agg} of {metric} by {location}\",\n",
    "    \"Display a geo map with bubble size showing {agg} {metric} across {location}\",\n",
    "    \"Map of {location} with bubble sized by {metric} using {agg}\",\n",
    "    \"Geo scatter plot: location = {location}, size = {metric} aggregated as {agg}\"\n",
    "]\n",
    "\n",
    "choro_templates = [\n",
    "    \"Show Choropleth map with {location} colored by {agg} of {metric}\",\n",
    "    \"Color regions on map by {agg} {metric} across {location}\",\n",
    "    \"Choropleth of {location} with gradient from {metric} ({agg})\",\n",
    "    \"Map showing intensity of {metric} ({agg}) by {location}\"\n",
    "]\n",
    "\n",
    "samples = []\n",
    "\n",
    "\n",
    "for _ in range(300):\n",
    "    location = random.choice(locations)\n",
    "    metric = random.choice(metrics)\n",
    "    agg = random.choice(agg_methods)\n",
    "    template = random.choice(geo_templates)\n",
    "\n",
    "    input_text = template.format(location=location, metric=metric, agg=agg)\n",
    "    target_text = f\"chart: geo_scatter, location: {location}, size: {metric}, agg: {agg}\"\n",
    "    samples.append({\"input\": input_text, \"target\": target_text})\n",
    "\n",
    "\n",
    "for _ in range(300):\n",
    "    location = random.choice(locations)\n",
    "    metric = random.choice(metrics)\n",
    "    agg = random.choice(agg_methods)\n",
    "    template = random.choice(choro_templates)\n",
    "\n",
    "    input_text = template.format(location=location, metric=metric, agg=agg)\n",
    "    target_text = f\"chart: choropleth, location: {location}, color: {metric}, agg: {agg}\"\n",
    "    samples.append({\"input\": input_text, \"target\": target_text})\n",
    "\n",
    "\n",
    "df_map = pd.DataFrame(samples)\n",
    "\n"
   ]
  },
  {
   "cell_type": "code",
   "execution_count": 200,
   "id": "83b44163-a641-4a1c-a4da-1f2fbfbbb4bc",
   "metadata": {},
   "outputs": [],
   "source": [
    "df = pd.concat([df, df_map], ignore_index=True)"
   ]
  },
  {
   "cell_type": "code",
   "execution_count": 201,
   "id": "859fe733-3d74-4bb5-ab89-04de877b268b",
   "metadata": {},
   "outputs": [
    {
     "data": {
      "text/plain": [
       "(52700, 2)"
      ]
     },
     "execution_count": 201,
     "metadata": {},
     "output_type": "execute_result"
    }
   ],
   "source": [
    "df.shape"
   ]
  },
  {
   "cell_type": "code",
   "execution_count": null,
   "id": "9b85e303-7b96-4d56-882d-c5d51f9090df",
   "metadata": {},
   "outputs": [],
   "source": []
  },
  {
   "cell_type": "code",
   "execution_count": 202,
   "id": "f1fe3311-3665-4b5f-8f00-8f05f675d7a4",
   "metadata": {},
   "outputs": [],
   "source": [
    "\n",
    "df_shuffled = df.sample(frac=1, random_state=42).reset_index(drop=True)\n",
    "\n",
    "\n",
    "df_shuffled.to_csv(\"t5_final_dataset.csv\", index=False)\n"
   ]
  },
  {
   "cell_type": "code",
   "execution_count": null,
   "id": "511b41fe-7c4b-481c-98b7-9b2cc4ad7991",
   "metadata": {},
   "outputs": [],
   "source": []
  },
  {
   "cell_type": "markdown",
   "id": "c2ef5fbe-a422-4fb1-8952-b1e49e7f0659",
   "metadata": {},
   "source": [
    "## dataset for Filter"
   ]
  },
  {
   "cell_type": "code",
   "execution_count": 24,
   "id": "89d8cc1c-8d37-42ca-a9f9-125af0cf022e",
   "metadata": {},
   "outputs": [],
   "source": [
    "df1 = pd.read_csv(r\"C:\\Users\\sanik\\Downloads\\filter_phrases_extended_1200.csv\")"
   ]
  },
  {
   "cell_type": "code",
   "execution_count": 25,
   "id": "5502b5b5-240c-4eba-95ee-4d0c43ddb257",
   "metadata": {},
   "outputs": [
    {
     "data": {
      "text/html": [
       "<div>\n",
       "<style scoped>\n",
       "    .dataframe tbody tr th:only-of-type {\n",
       "        vertical-align: middle;\n",
       "    }\n",
       "\n",
       "    .dataframe tbody tr th {\n",
       "        vertical-align: top;\n",
       "    }\n",
       "\n",
       "    .dataframe thead th {\n",
       "        text-align: right;\n",
       "    }\n",
       "</style>\n",
       "<table border=\"1\" class=\"dataframe\">\n",
       "  <thead>\n",
       "    <tr style=\"text-align: right;\">\n",
       "      <th></th>\n",
       "      <th>input</th>\n",
       "      <th>column</th>\n",
       "      <th>operator</th>\n",
       "      <th>value</th>\n",
       "    </tr>\n",
       "  </thead>\n",
       "  <tbody>\n",
       "    <tr>\n",
       "      <th>0</th>\n",
       "      <td>platform == Android</td>\n",
       "      <td>platform</td>\n",
       "      <td>==</td>\n",
       "      <td>Android</td>\n",
       "    </tr>\n",
       "    <tr>\n",
       "      <th>1</th>\n",
       "      <td>sales != 789</td>\n",
       "      <td>sales</td>\n",
       "      <td>!=</td>\n",
       "      <td>789</td>\n",
       "    </tr>\n",
       "    <tr>\n",
       "      <th>2</th>\n",
       "      <td>budget == 127</td>\n",
       "      <td>budget</td>\n",
       "      <td>==</td>\n",
       "      <td>127</td>\n",
       "    </tr>\n",
       "    <tr>\n",
       "      <th>3</th>\n",
       "      <td>amount between 424 and 464</td>\n",
       "      <td>amount</td>\n",
       "      <td>between</td>\n",
       "      <td>424-464</td>\n",
       "    </tr>\n",
       "    <tr>\n",
       "      <th>4</th>\n",
       "      <td>age &lt; 808</td>\n",
       "      <td>age</td>\n",
       "      <td>&lt;</td>\n",
       "      <td>808</td>\n",
       "    </tr>\n",
       "  </tbody>\n",
       "</table>\n",
       "</div>"
      ],
      "text/plain": [
       "                        input    column operator    value\n",
       "0         platform == Android  platform       ==  Android\n",
       "1                sales != 789     sales       !=      789\n",
       "2               budget == 127    budget       ==      127\n",
       "3  amount between 424 and 464    amount  between  424-464\n",
       "4                   age < 808       age        <      808"
      ]
     },
     "execution_count": 25,
     "metadata": {},
     "output_type": "execute_result"
    }
   ],
   "source": [
    "df1.head()"
   ]
  },
  {
   "cell_type": "code",
   "execution_count": 26,
   "id": "f59c63f7-d089-4fb8-8041-ed6a14b4bb6a",
   "metadata": {},
   "outputs": [],
   "source": [
    "df2 = pd.read_csv(r\"C:\\Users\\sanik\\Downloads\\filter_dataset_6000_no_unknown.csv\")"
   ]
  },
  {
   "cell_type": "code",
   "execution_count": 27,
   "id": "56931e6b-052f-4dc3-96ee-51e650fd4e59",
   "metadata": {},
   "outputs": [
    {
     "data": {
      "text/html": [
       "<div>\n",
       "<style scoped>\n",
       "    .dataframe tbody tr th:only-of-type {\n",
       "        vertical-align: middle;\n",
       "    }\n",
       "\n",
       "    .dataframe tbody tr th {\n",
       "        vertical-align: top;\n",
       "    }\n",
       "\n",
       "    .dataframe thead th {\n",
       "        text-align: right;\n",
       "    }\n",
       "</style>\n",
       "<table border=\"1\" class=\"dataframe\">\n",
       "  <thead>\n",
       "    <tr style=\"text-align: right;\">\n",
       "      <th></th>\n",
       "      <th>input</th>\n",
       "      <th>column</th>\n",
       "      <th>operation</th>\n",
       "      <th>value</th>\n",
       "    </tr>\n",
       "  </thead>\n",
       "  <tbody>\n",
       "    <tr>\n",
       "      <th>0</th>\n",
       "      <td>if mission equals Africa</td>\n",
       "      <td>mission</td>\n",
       "      <td>=</td>\n",
       "      <td>Africa</td>\n",
       "    </tr>\n",
       "    <tr>\n",
       "      <th>1</th>\n",
       "      <td>equal to 1500</td>\n",
       "      <td>year</td>\n",
       "      <td>=</td>\n",
       "      <td>1500</td>\n",
       "    </tr>\n",
       "    <tr>\n",
       "      <th>2</th>\n",
       "      <td>only for area more than iOS</td>\n",
       "      <td>area</td>\n",
       "      <td>&gt;</td>\n",
       "      <td>iOS</td>\n",
       "    </tr>\n",
       "    <tr>\n",
       "      <th>3</th>\n",
       "      <td>zone greater than Tablet</td>\n",
       "      <td>zone</td>\n",
       "      <td>&gt;</td>\n",
       "      <td>Tablet</td>\n",
       "    </tr>\n",
       "    <tr>\n",
       "      <th>4</th>\n",
       "      <td>variant greater than Female</td>\n",
       "      <td>variant</td>\n",
       "      <td>&gt;</td>\n",
       "      <td>Female</td>\n",
       "    </tr>\n",
       "  </tbody>\n",
       "</table>\n",
       "</div>"
      ],
      "text/plain": [
       "                         input   column operation   value\n",
       "0     if mission equals Africa  mission         =  Africa\n",
       "1                equal to 1500     year         =    1500\n",
       "2  only for area more than iOS     area         >     iOS\n",
       "3     zone greater than Tablet     zone         >  Tablet\n",
       "4  variant greater than Female  variant         >  Female"
      ]
     },
     "execution_count": 27,
     "metadata": {},
     "output_type": "execute_result"
    }
   ],
   "source": [
    "df2.head()"
   ]
  },
  {
   "cell_type": "code",
   "execution_count": 28,
   "id": "b82f03c2-8be7-4cee-996a-98287245f8fa",
   "metadata": {},
   "outputs": [],
   "source": [
    "df2 = df2.rename(columns={\n",
    "    \"operation\": \"operator\",\n",
    "    \n",
    "})"
   ]
  },
  {
   "cell_type": "code",
   "execution_count": 29,
   "id": "94572c39-03a6-4955-8e47-1411f04c243a",
   "metadata": {},
   "outputs": [],
   "source": [
    "combined_df = pd.concat([df1, df2], ignore_index=True).sample(frac=1).reset_index(drop=True)\n"
   ]
  },
  {
   "cell_type": "code",
   "execution_count": 30,
   "id": "4106de60-332d-4d24-8d5b-690ec3de7096",
   "metadata": {},
   "outputs": [],
   "source": [
    "\n",
    "\n",
    "combined_df[\"input_text\"] = \"Extract filters: \" + combined_df[\"input\"]\n",
    "combined_df[\"target_text\"] = (\n",
    "    \"column: \" + combined_df[\"column\"] +\n",
    "    \"; operator: \" + combined_df[\"operator\"] +\n",
    "    \"; value: \" + combined_df[\"value\"]\n",
    ")\n",
    "\n",
    "\n",
    "combined_df[[\"input_text\", \"target_text\"]].to_csv(\"filter_dataset_for_tuning.csv\", index=False)\n"
   ]
  },
  {
   "cell_type": "code",
   "execution_count": null,
   "id": "baecc0a8-3cbf-438b-8cc7-84a9ce29211e",
   "metadata": {},
   "outputs": [],
   "source": []
  }
 ],
 "metadata": {
  "kernelspec": {
   "display_name": "Python 3 (ipykernel)",
   "language": "python",
   "name": "python3"
  },
  "language_info": {
   "codemirror_mode": {
    "name": "ipython",
    "version": 3
   },
   "file_extension": ".py",
   "mimetype": "text/x-python",
   "name": "python",
   "nbconvert_exporter": "python",
   "pygments_lexer": "ipython3",
   "version": "3.12.7"
  }
 },
 "nbformat": 4,
 "nbformat_minor": 5
}
